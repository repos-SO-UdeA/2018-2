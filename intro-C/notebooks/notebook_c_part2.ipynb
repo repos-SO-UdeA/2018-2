{
 "cells": [
  {
   "cell_type": "markdown",
   "metadata": {},
   "source": [
    "# Vectores y apuntadores - Ejemplos de repaso"
   ]
  },
  {
   "cell_type": "raw",
   "metadata": {},
   "source": [
    "A continuación se muestran varios ejemplos de repaso empleando apuntadores"
   ]
  },
  {
   "cell_type": "code",
   "execution_count": 2,
   "metadata": {},
   "outputs": [],
   "source": [
    "%load_ext tutormagic"
   ]
  },
  {
   "cell_type": "markdown",
   "metadata": {},
   "source": [
    "## Apuntadores y variables "
   ]
  },
  {
   "cell_type": "markdown",
   "metadata": {},
   "source": [
    "**Ejemplo 1**: Analise el siguiente código y luego responda las preguntas que se muestran abajo."
   ]
  },
  {
   "cell_type": "code",
   "execution_count": 8,
   "metadata": {},
   "outputs": [
    {
     "data": {
      "text/html": [
       "\n",
       "        <iframe\n",
       "            width=\"100%\"\n",
       "            height=\"500\"\n",
       "            src=\"http://pythontutor.com/iframe-embed.html#code=%23include%20%3Cstdio.h%3E%0A%0Aint%20main%28%29%20%7B%0A%20%20unsigned%20short%20v1%2C%20v2%20%3D%2065535%3B%0A%20%20unsigned%20short%20%2Ap%20%3D%20%26v1%3B%20%20%0A%20%20%2Ap%20%3D%20v2%20%2B%201%3B%0A%20%20printf%28%22p%20%3D%20%25p%5Cn%22%2C%20p%29%3B%0A%20%20printf%28%22v1%20%3D%20%25hu%5Cn%22%2C%20v1%29%3B%0A%20%20p%20%3D%20%26v2%3B%0A%20%20printf%28%22p%20%3D%20%25p%5Cn%22%2C%20p%29%3B%0A%20%20printf%28%22v2%20%3D%20%25hu%5Cn%22%2C%20v2%29%3B%0A%20%20%2Ap%20%3D%20%2Ap%20-2%3B%0A%20%20p%2B%2B%3B%0A%20%20printf%28%22p%20%3D%20%25p%5Cn%22%2C%20p%29%3B%0A%20%20return%200%3B%0A%7D&origin=opt-frontend.js&cumulative=false&heapPrimitives=false&textReferences=false&curInstr=0&&verticalStack=false&py=c&rawInputLstJSON=%5B%5D&codeDivWidth=50%25&codeDivHeight=100%25\"\n",
       "            frameborder=\"0\"\n",
       "            allowfullscreen\n",
       "        ></iframe>\n",
       "        "
      ],
      "text/plain": [
       "<IPython.lib.display.IFrame at 0x7f444c2e8208>"
      ]
     },
     "metadata": {},
     "output_type": "display_data"
    }
   ],
   "source": [
    "%%tutor -l c -h 500\n",
    "#include <stdio.h>\n",
    "\n",
    "int main() {\n",
    "  unsigned short v1, v2 = 65535;\n",
    "  unsigned short *p = &v1;  \n",
    "  *p = v2 + 1;\n",
    "  printf(\"p = %p\\n\", p);\n",
    "  printf(\"v1 = %hu\\n\", v1);\n",
    "  p = &v2;\n",
    "  printf(\"p = %p\\n\", p);\n",
    "  printf(\"v2 = %hu\\n\", v2);\n",
    "  *p = *p -2;\n",
    "  p++;\n",
    "  printf(\"p = %p\\n\", p);\n",
    "  return 0;\n",
    "}"
   ]
  },
  {
   "cell_type": "markdown",
   "metadata": {},
   "source": [
    "**Preguntas**:\n",
    "1. ¿Cuales son los valores finales de v1, v2 y p?\n",
    "2. ¿Por que v1 es 0?\n",
    "3. ¿Por que el último valor de p?\n",
    "4. Modifique el código para que se manejen datos tipo ```C int``` en vez de ```C unsigned int```. Luego responda las mismas preguntas anteriormente planteadas para este nuevo caso."
   ]
  },
  {
   "cell_type": "markdown",
   "metadata": {},
   "source": [
    "**Ejemplo 2**: Despues de que se simula el siguiente codigo, ¿Cual es el valor final de la variable ch?"
   ]
  },
  {
   "cell_type": "code",
   "execution_count": 4,
   "metadata": {},
   "outputs": [
    {
     "data": {
      "text/html": [
       "\n",
       "        <iframe\n",
       "            width=\"100%\"\n",
       "            height=\"500\"\n",
       "            src=\"http://pythontutor.com/iframe-embed.html#code=%23include%20%3Cstdio.h%3E%0A%0Aint%20main%28%29%20%7B%0A%20%20char%20%2Ap1%2C%20%2Ap2%3B%0A%20%20char%20ch%20%3D%20%27a%27%3B%0A%20%20printf%28%22ch%20%3D%20%25c%5Cn%22%2C%20ch%29%3B%0A%20%20p1%20%3D%20%26ch%3B%0A%20%20%28%2Ap1%29%2B%2B%3B%0A%20%20printf%28%22ch%20%3D%20%25c%5Cn%22%2C%20ch%29%3B%0A%20%20p2%20%3D%20p1%3B%0A%20%20%2Ap2%20%2B%3D%203%3B%0A%20%20printf%28%22ch%20%3D%20%25c%5Cn%22%2C%20ch%29%3B%0A%20%20return%200%3B%0A%7D&origin=opt-frontend.js&cumulative=false&heapPrimitives=false&textReferences=false&curInstr=0&&verticalStack=false&py=c&rawInputLstJSON=%5B%5D&codeDivWidth=50%25&codeDivHeight=100%25\"\n",
       "            frameborder=\"0\"\n",
       "            allowfullscreen\n",
       "        ></iframe>\n",
       "        "
      ],
      "text/plain": [
       "<IPython.lib.display.IFrame at 0x7f444c2e0f60>"
      ]
     },
     "metadata": {},
     "output_type": "display_data"
    }
   ],
   "source": [
    "%%tutor -l c -h 500\n",
    "#include <stdio.h>\n",
    "\n",
    "int main() {\n",
    "  char *p1, *p2;\n",
    "  char ch = 'a';\n",
    "  printf(\"ch = %c\\n\", ch);\n",
    "  p1 = &ch;\n",
    "  (*p1)++;\n",
    "  printf(\"ch = %c\\n\", ch);\n",
    "  p2 = p1;\n",
    "  *p2 += 3;\n",
    "  printf(\"ch = %c\\n\", ch);\n",
    "  return 0;\n",
    "}"
   ]
  },
  {
   "cell_type": "markdown",
   "metadata": {},
   "source": [
    "**Ejemplo 3**: Suponga que se simula el siguiente codigo"
   ]
  },
  {
   "cell_type": "code",
   "execution_count": 5,
   "metadata": {},
   "outputs": [
    {
     "data": {
      "text/html": [
       "\n",
       "        <iframe\n",
       "            width=\"100%\"\n",
       "            height=\"500\"\n",
       "            src=\"http://pythontutor.com/iframe-embed.html#code=%23include%20%3Cstdio.h%3E%0A%0Aint%20main%28%29%20%7B%0A%20%20int%20%2Ap1%2C%20%2Ap2%3B%0A%20%20int%20a%20%3D%203%3B%0A%20%20p1%20%3D%20%26a%3B%0A%20%20p2%20%3D%20p1%3B%0A%20%20printf%28%22------------------%5Cn%22%29%3B%0A%20%20printf%28%22a%20%3D%20%25d%5Cn%22%2C%20a%29%3B%0A%20%20printf%28%22p1%20%3D%20%25p%5Cn%22%2C%20p1%29%3B%0A%20%20printf%28%22p2%20%3D%20%25p%5Cn%22%2Cp2%29%3B%20%20%0A%20%20%28%2Ap1%29%2B%2B%3B%0A%20%20%2Ap2%2B%2B%3B%0A%20%20printf%28%22------------------%5Cn%22%29%3B%0A%20%20printf%28%22a%20%3D%20%25d%5Cn%22%2C%20a%29%3B%0A%20%20printf%28%22p1%20%3D%20%25p%5Cn%22%2C%20p1%29%3B%0A%20%20printf%28%22p2%20%3D%20%25p%5Cn%22%2Cp2%29%3B%0A%20%20return%200%3B%0A%7D&origin=opt-frontend.js&cumulative=false&heapPrimitives=false&textReferences=false&curInstr=0&&verticalStack=false&py=c&rawInputLstJSON=%5B%5D&codeDivWidth=50%25&codeDivHeight=100%25\"\n",
       "            frameborder=\"0\"\n",
       "            allowfullscreen\n",
       "        ></iframe>\n",
       "        "
      ],
      "text/plain": [
       "<IPython.lib.display.IFrame at 0x7f444c2e0c50>"
      ]
     },
     "metadata": {},
     "output_type": "display_data"
    }
   ],
   "source": [
    "%%tutor -l c -h 500\n",
    "#include <stdio.h>\n",
    "\n",
    "int main() {\n",
    "  int *p1, *p2;\n",
    "  int a = 3;\n",
    "  p1 = &a;\n",
    "  p2 = p1;\n",
    "  printf(\"------------------\\n\");\n",
    "  printf(\"a = %d\\n\", a);\n",
    "  printf(\"p1 = %p\\n\", p1);\n",
    "  printf(\"p2 = %p\\n\",p2);  \n",
    "  (*p1)++;\n",
    "  *p2++;\n",
    "  printf(\"------------------\\n\");\n",
    "  printf(\"a = %d\\n\", a);\n",
    "  printf(\"p1 = %p\\n\", p1);\n",
    "  printf(\"p2 = %p\\n\",p2);\n",
    "  return 0;\n",
    "}"
   ]
  },
  {
   "cell_type": "markdown",
   "metadata": {},
   "source": [
    "¿Por que se muestran los valores mostrados a la salida en pantalla?"
   ]
  },
  {
   "cell_type": "markdown",
   "metadata": {},
   "source": [
    "## Funciones por referencia y por valor"
   ]
  },
  {
   "cell_type": "markdown",
   "metadata": {},
   "source": [
    "**Ejemplo 4**: Dado el siguiente código, responda las preguntas que se plantean abajo"
   ]
  },
  {
   "cell_type": "code",
   "execution_count": 10,
   "metadata": {
    "scrolled": false
   },
   "outputs": [
    {
     "data": {
      "text/html": [
       "\n",
       "        <iframe\n",
       "            width=\"100%\"\n",
       "            height=\"500\"\n",
       "            src=\"http://pythontutor.com/iframe-embed.html#code=%23include%20%3Cstdio.h%3E%0A%0Avoid%20incremento%28int%29%3B%0A%0Aint%20main%28%29%20%7B%0A%20%20int%20v%20%3D%203%3B%0A%20%20int%20%2Ap%20%3D%20%26v%3B%0A%20%20printf%28%22Antes%20de%20la%20funcion%20%5C%27incremento%5C%27%20v%20vale%20%25d%5Cn%22%2Cv%29%3B%0A%20%20incremento%28v%29%3B%0A%20%20printf%28%22Despues%20de%20la%20funcion%20%5C%27incremento%5C%27%20v%20vale%20%25d%5Cn%22%2Cv%29%3B%0A%20%20incremento%28%2Ap%29%3B%20//%20Pregunta%0A%20%20printf%28%22Despues%20de%20la%20funcion%20%5C%27incremento%5C%27%20otra%20vez%20v%20vale%20%25d%5Cn%22%2Cv%29%3B%0A%20%20return%200%3B%0A%7D%0A%0Avoid%20incremento%28int%20i%29%20%7B%0A%20%20i%2B%2B%3B%0A%7D&origin=opt-frontend.js&cumulative=false&heapPrimitives=false&textReferences=false&curInstr=0&&verticalStack=false&py=c&rawInputLstJSON=%5B%5D&codeDivWidth=50%25&codeDivHeight=100%25\"\n",
       "            frameborder=\"0\"\n",
       "            allowfullscreen\n",
       "        ></iframe>\n",
       "        "
      ],
      "text/plain": [
       "<IPython.lib.display.IFrame at 0x7f444c2e8390>"
      ]
     },
     "metadata": {},
     "output_type": "display_data"
    }
   ],
   "source": [
    "%%tutor -l c -h 500\n",
    "#include <stdio.h>\n",
    "\n",
    "void incremento(int);\n",
    "\n",
    "int main() {\n",
    "  int v = 3;\n",
    "  int *p = &v;\n",
    "  printf(\"Antes de la funcion \\'incremento\\' v vale %d\\n\",v);\n",
    "  incremento(v);\n",
    "  printf(\"Despues de la funcion \\'incremento\\' v vale %d\\n\",v);\n",
    "  incremento(*p); // Pregunta\n",
    "  printf(\"Despues de la funcion \\'incremento\\' otra vez v vale %d\\n\",v);\n",
    "  return 0;\n",
    "}\n",
    "\n",
    "void incremento(int i) {\n",
    "  i++;\n",
    "}"
   ]
  },
  {
   "cell_type": "markdown",
   "metadata": {},
   "source": [
    "**Preguntas**:\n",
    "* ¿El valor de v cambia?, ¿Por que?\n",
    "* ¿Por que en la linea cuyo comentario es Pregunta se usa el asterisco (*) al invocar la funcion?"
   ]
  },
  {
   "cell_type": "markdown",
   "metadata": {},
   "source": [
    "**Ejemplo 5**: Dado el siguiente código, responda las preguntas que se plantean abajo"
   ]
  },
  {
   "cell_type": "markdown",
   "metadata": {},
   "source": [
    "**Preguntas**:\n",
    "* ¿El valor de v cambia?, ¿Por que?\n",
    "* ¿Por que en la linea cuyo comentario es **Pregunta 2** se usa el ampersand (&) al invocar la funcion?\n",
    "* ¿Por que en la linea cuyo comentario es **Pregunta 3** no se usa el ampersand (&) al invocar la funcion?, ¿Que pasa si se usa el ampersand?"
   ]
  },
  {
   "cell_type": "code",
   "execution_count": 17,
   "metadata": {
    "scrolled": false
   },
   "outputs": [
    {
     "data": {
      "text/html": [
       "\n",
       "        <iframe\n",
       "            width=\"100%\"\n",
       "            height=\"500\"\n",
       "            src=\"http://pythontutor.com/iframe-embed.html#code=%23include%20%3Cstdio.h%3E%0A%0Avoid%20incremento%28int%20%2Ai%29%3B%0A%0Aint%20main%28%29%20%7B%0A%20%20int%20v%20%3D%203%3B%0A%20%20int%20%2Ap%20%3D%20%26v%3B%0A%20%20printf%28%22Antes%20de%20la%20funcion%20%5C%27incremento%5C%27%20v%20vale%20%25d%5Cn%22%2Cv%29%3B%0A%20%20incremento%28%26v%29%3B%20%20%20//%20Pregunta%202%0A%20%20printf%28%22Despues%20de%20la%20funcion%20%5C%27incremento%5C%27%20v%20vale%20%25d%5Cn%22%2Cv%29%3B%0A%20%20incremento%28p%29%3B%20%20%20//%20Pregunta%203%0A%20%20printf%28%22Despues%20de%20la%20funcion%20%5C%27incremento%5C%27%20otra%20vez%20v%20vale%20%25d%5Cn%22%2Cv%29%3B%0A%20%20return%200%3B%0A%7D%0A%0Avoid%20incremento%28int%20%2Ai%29%20%7B%0A%20%20%2Ai%20%2B%3D%201%3B%0A%7D&origin=opt-frontend.js&cumulative=false&heapPrimitives=false&textReferences=false&curInstr=0&&verticalStack=false&py=c&rawInputLstJSON=%5B%5D&codeDivWidth=50%25&codeDivHeight=100%25\"\n",
       "            frameborder=\"0\"\n",
       "            allowfullscreen\n",
       "        ></iframe>\n",
       "        "
      ],
      "text/plain": [
       "<IPython.lib.display.IFrame at 0x7f444fbbb1d0>"
      ]
     },
     "metadata": {},
     "output_type": "display_data"
    }
   ],
   "source": [
    "%%tutor -l c -h 500\n",
    "#include <stdio.h>\n",
    "\n",
    "void incremento(int *i);\n",
    "\n",
    "int main() {\n",
    "  int v = 3;\n",
    "  int *p = &v;\n",
    "  printf(\"Antes de la funcion \\'incremento\\' v vale %d\\n\",v);\n",
    "  incremento(&v);   // Pregunta 2\n",
    "  printf(\"Despues de la funcion \\'incremento\\' v vale %d\\n\",v);\n",
    "  incremento(p);   // Pregunta 3\n",
    "  printf(\"Despues de la funcion \\'incremento\\' otra vez v vale %d\\n\",v);\n",
    "  return 0;\n",
    "}\n",
    "\n",
    "void incremento(int *i) {\n",
    "  *i += 1;\n",
    "}"
   ]
  },
  {
   "cell_type": "markdown",
   "metadata": {},
   "source": [
    "**Ejemplo 6**: Dado el siguiente codigo, simulelo y deduzca por que los valores de ``` x ```, ``` y ``` y ``` z ```  son los que se muestran antes y despues del llamado de la funcion."
   ]
  },
  {
   "cell_type": "code",
   "execution_count": 18,
   "metadata": {},
   "outputs": [
    {
     "data": {
      "text/html": [
       "\n",
       "        <iframe\n",
       "            width=\"100%\"\n",
       "            height=\"500\"\n",
       "            src=\"http://pythontutor.com/iframe-embed.html#code=%23include%20%3Cstdio.h%3E%0A%0Aint%20foo%28int%20a%2C%20int%20%2Ab%29%3B%0A%0Aint%20main%28%29%20%7B%0A%20%20int%20x%20%3D%203%2C%20y%20%3D%204%2C%20z%20%3D%200%3B%0A%20%20printf%28%22x%20%3D%20%25d%2C%20y%20%3D%20%25d%2C%20z%20%3D%20%25d%5Cn%22%2C%20x%2C%20y%2C%20z%29%3B%0A%20%20z%20%3D%20foo%28x%2C%20%26y%29%3B%0A%20%20printf%28%22x%20%3D%20%25d%2C%20y%20%3D%20%25d%2C%20z%20%3D%20%25d%5Cn%22%2C%20x%2C%20y%2C%20z%29%3B%20%20%0A%7D%0A%0Aint%20foo%28int%20a%2C%20int%20%2Ab%29%20%7B%0A%20%20int%20r%3B%0A%20%20a%2B%2B%3B%0A%20%20%2Ab%20%2B%3D%20a%3B%0A%20%20r%20%3D%20a%20%2B%20%2Ab%3B%0A%7D&origin=opt-frontend.js&cumulative=false&heapPrimitives=false&textReferences=false&curInstr=0&&verticalStack=false&py=c&rawInputLstJSON=%5B%5D&codeDivWidth=50%25&codeDivHeight=100%25\"\n",
       "            frameborder=\"0\"\n",
       "            allowfullscreen\n",
       "        ></iframe>\n",
       "        "
      ],
      "text/plain": [
       "<IPython.lib.display.IFrame at 0x7f444fbb94a8>"
      ]
     },
     "metadata": {},
     "output_type": "display_data"
    }
   ],
   "source": [
    "%%tutor -l c -h 500\n",
    "#include <stdio.h>\n",
    "\n",
    "int foo(int a, int *b);\n",
    "\n",
    "int main() {\n",
    "  int x = 3, y = 4, z = 0;\n",
    "  printf(\"x = %d, y = %d, z = %d\\n\", x, y, z);\n",
    "  z = foo(x, &y);\n",
    "  printf(\"x = %d, y = %d, z = %d\\n\", x, y, z);  \n",
    "}\n",
    "\n",
    "int foo(int a, int *b) {\n",
    "  int r;\n",
    "  a++;\n",
    "  *b += a;\n",
    "  r = a + *b;\n",
    "}"
   ]
  },
  {
   "cell_type": "markdown",
   "metadata": {},
   "source": [
    "## Vectores "
   ]
  },
  {
   "cell_type": "markdown",
   "metadata": {},
   "source": [
    "**Ejemplo 7**: en este ejemplo se muestra la declaración de varios arrays de diferente tipo"
   ]
  },
  {
   "cell_type": "code",
   "execution_count": 19,
   "metadata": {},
   "outputs": [
    {
     "data": {
      "text/html": [
       "\n",
       "        <iframe\n",
       "            width=\"100%\"\n",
       "            height=\"350\"\n",
       "            src=\"http://pythontutor.com/iframe-embed.html#code=%23include%20%3Cstdio.h%3E%0A%0A//%20Variables%20globales%0Aint%20A%5B3%5D%3B%0Adouble%20B%5B4%5D%3B%0A%0Aint%20main%28%29%20%7B%0A%20%20//%20Variables%20locales%0A%20%20char%20C%5B6%5D%3B%0A%20%20int%20D%5B2%5D%3B%0A%20%20return%200%3B%0A%7D&origin=opt-frontend.js&cumulative=false&heapPrimitives=false&textReferences=false&curInstr=0&&verticalStack=false&py=c&rawInputLstJSON=%5B%5D&codeDivWidth=50%25&codeDivHeight=100%25\"\n",
       "            frameborder=\"0\"\n",
       "            allowfullscreen\n",
       "        ></iframe>\n",
       "        "
      ],
      "text/plain": [
       "<IPython.lib.display.IFrame at 0x7f444fbb94a8>"
      ]
     },
     "metadata": {},
     "output_type": "display_data"
    }
   ],
   "source": [
    "%%tutor -l c\n",
    "#include <stdio.h>\n",
    "\n",
    "// Variables globales\n",
    "int A[3];\n",
    "double B[4];\n",
    "\n",
    "int main() {\n",
    "  // Variables locales\n",
    "  char C[6];\n",
    "  int D[2];\n",
    "  return 0;\n",
    "}"
   ]
  },
  {
   "cell_type": "markdown",
   "metadata": {},
   "source": [
    "**Ejemplo 8**: el siguiente progama que llena un arreglo de 10 elementos con los multiplos del 10 (1, 10, 20, etc.)."
   ]
  },
  {
   "cell_type": "code",
   "execution_count": 20,
   "metadata": {},
   "outputs": [
    {
     "data": {
      "text/html": [
       "\n",
       "        <iframe\n",
       "            width=\"100%\"\n",
       "            height=\"500\"\n",
       "            src=\"http://pythontutor.com/iframe-embed.html#code=%23include%20%3Cstdio.h%3E%0A%0A%23define%20TAM%2010%0A%0Aint%20main%28%29%20%7B%0A%20%20int%20A%5BTAM%5D%3B%0A%20%20int%20num%20%3D%201%3B%0A%20%20//%20Inicializando%20el%20arreglo%0A%20%20for%28int%20i%20%3D%200%3B%20i%20%3C%20TAM%3B%20i%2B%2B%29%20%7B%0A%20%20%20%20A%5Bi%5D%20%3D%2010%2Anum%3B%0A%20%20%20%20num%2B%2B%3B%20%20%20%20%20%0A%20%20%7D%0A%20%20//%20Imprimiendo%20el%20arreglo%0A%20%20printf%28%22A%20%3D%20%5B%20%22%29%3B%0A%20%20for%28int%20i%20%3D%200%3B%20i%20%3C%20TAM%3B%20i%2B%2B%29%20%7B%0A%20%20%20%20printf%28%22%25d%20%22%2C%20A%5Bi%5D%29%3B%20%20%20%20%20%0A%20%20%7D%0A%20%20printf%28%22%5D%22%29%3B%0A%20%20return%200%3B%0A%7D&origin=opt-frontend.js&cumulative=false&heapPrimitives=false&textReferences=false&curInstr=0&&verticalStack=false&py=c&rawInputLstJSON=%5B%5D&codeDivWidth=50%25&codeDivHeight=100%25\"\n",
       "            frameborder=\"0\"\n",
       "            allowfullscreen\n",
       "        ></iframe>\n",
       "        "
      ],
      "text/plain": [
       "<IPython.lib.display.IFrame at 0x7f444fbb90f0>"
      ]
     },
     "metadata": {},
     "output_type": "display_data"
    }
   ],
   "source": [
    "%%tutor -l c -h 500\n",
    "#include <stdio.h>\n",
    "\n",
    "#define TAM 10\n",
    "\n",
    "int main() {\n",
    "  int A[TAM];\n",
    "  int num = 1;\n",
    "  // Inicializando el arreglo\n",
    "  for(int i = 0; i < TAM; i++) {\n",
    "    A[i] = 10*num;\n",
    "    num++;     \n",
    "  }\n",
    "  // Imprimiendo el arreglo\n",
    "  printf(\"A = [ \");\n",
    "  for(int i = 0; i < TAM; i++) {\n",
    "    printf(\"%d \", A[i]);     \n",
    "  }\n",
    "  printf(\"]\");\n",
    "  return 0;\n",
    "}"
   ]
  },
  {
   "cell_type": "markdown",
   "metadata": {},
   "source": [
    "**Ejemplo 9**: el siguiente ejemplo crea dos arreglos (A y B). Luego, inicializa el arreglo A con numeros aleatorios entre el 1 y el 20, y finalmente lleva al arreglo B los elementos del arreglo A en orden inverso."
   ]
  },
  {
   "cell_type": "code",
   "execution_count": 21,
   "metadata": {
    "scrolled": false
   },
   "outputs": [
    {
     "data": {
      "text/html": [
       "\n",
       "        <iframe\n",
       "            width=\"100%\"\n",
       "            height=\"800\"\n",
       "            src=\"http://pythontutor.com/iframe-embed.html#code=%23include%20%3Cstdio.h%3E%0A%23include%20%3Cstdlib.h%3E%20//%20required%20to%20use%20%27rand%28%29%27%0A%23include%20%3Ctime.h%3E%20%20//%20required%20to%20use%20%27srand%28time%28NULL%29%29%27%0A%23define%20TAM%2010%0A%0Aint%20main%28%29%20%7B%0A%20%20srand%28time%28NULL%29%29%3B%20//%20required%20for%20%22randomness%22%0A%20%20int%20A%5BTAM%5D%2C%20B%5BTAM%5D%3B%0A%20%20int%20limSup%20%3D%2020%2C%20limInf%20%3D%201%3B%20%20%0A%20%20//%20Inicializando%20el%20arreglo%0A%20%20for%28int%20i%20%3D%200%3B%20i%20%3C%20TAM%3B%20i%2B%2B%29%20%7B%0A%20%20%20%20A%5Bi%5D%20%3D%20rand%28%29%25limSup%20%2B%20limInf%3B%20//%20generate%20a%20number%20%0A%20%20%20%20%20%20%20%20%20%20%20%20%20%20%20%20%20%20%20%20%20%20%20%20%20%20%20%20%20%20%20%20%20%20%20//%20between%20limInf%20and%20limSup%0A%20%20%20%20%20%0A%20%20%7D%0A%20%20//%20Imprimiendo%20el%20arreglo%20A%0A%20%20printf%28%22A%20%3D%20%5B%20%22%29%3B%0A%20%20for%28int%20i%20%3D%200%3B%20i%20%3C%20TAM%3B%20i%2B%2B%29%20%7B%0A%20%20%20%20printf%28%22%25d%20%22%2C%20A%5Bi%5D%29%3B%20%20%20%0A%20%20%20%20B%5BTAM%20-%20%28i%20%2B%201%29%5D%20%3D%20A%5Bi%5D%3B%0A%20%20%7D%0A%20%20printf%28%22%5D%5Cn%22%29%3B%20%0A%20%20//%20Imprimiendo%20el%20arreglo%20B%0A%20%20printf%28%22B%20%3D%20%5B%20%22%29%3B%0A%20%20for%28int%20i%20%3D%200%3B%20i%20%3C%20TAM%3B%20i%2B%2B%29%20%7B%0A%20%20%20%20printf%28%22%25d%20%22%2C%20B%5Bi%5D%29%3B%20%20%20%0A%20%20%7D%0A%20%20printf%28%22%5D%5Cn%22%29%3B%0A%20%20return%200%3B%20%20%0A%7D&origin=opt-frontend.js&cumulative=false&heapPrimitives=false&textReferences=false&curInstr=0&&verticalStack=false&py=c&rawInputLstJSON=%5B%5D&codeDivWidth=50%25&codeDivHeight=100%25\"\n",
       "            frameborder=\"0\"\n",
       "            allowfullscreen\n",
       "        ></iframe>\n",
       "        "
      ],
      "text/plain": [
       "<IPython.lib.display.IFrame at 0x7f444fbb9e80>"
      ]
     },
     "metadata": {},
     "output_type": "display_data"
    }
   ],
   "source": [
    "%%tutor -l c -h 800\n",
    "#include <stdio.h>\n",
    "#include <stdlib.h> // required to use 'rand()'\n",
    "#include <time.h>  // required to use 'srand(time(NULL))'\n",
    "#define TAM 10\n",
    "\n",
    "int main() {\n",
    "  srand(time(NULL)); // required for \"randomness\"\n",
    "  int A[TAM], B[TAM];\n",
    "  int limSup = 20, limInf = 1;  \n",
    "  // Inicializando el arreglo\n",
    "  for(int i = 0; i < TAM; i++) {\n",
    "    A[i] = rand()%limSup + limInf; // generate a number \n",
    "                                   // between limInf and limSup\n",
    "     \n",
    "  }\n",
    "  // Imprimiendo el arreglo A\n",
    "  printf(\"A = [ \");\n",
    "  for(int i = 0; i < TAM; i++) {\n",
    "    printf(\"%d \", A[i]);   \n",
    "    B[TAM - (i + 1)] = A[i];\n",
    "  }\n",
    "  printf(\"]\\n\"); \n",
    "  // Imprimiendo el arreglo B\n",
    "  printf(\"B = [ \");\n",
    "  for(int i = 0; i < TAM; i++) {\n",
    "    printf(\"%d \", B[i]);   \n",
    "  }\n",
    "  printf(\"]\\n\");\n",
    "  return 0;  \n",
    "}"
   ]
  },
  {
   "cell_type": "markdown",
   "metadata": {},
   "source": [
    "## Funciones y vectores "
   ]
  },
  {
   "cell_type": "markdown",
   "metadata": {},
   "source": [
    "**Ejemplo 10**: Revise el código del ejemplo 8 y modifiquelo de modo que la parte que imprime el contenido del vector sea implementada mediante funciones."
   ]
  },
  {
   "cell_type": "code",
   "execution_count": 26,
   "metadata": {},
   "outputs": [
    {
     "data": {
      "text/html": [
       "\n",
       "        <iframe\n",
       "            width=\"100%\"\n",
       "            height=\"500\"\n",
       "            src=\"http://pythontutor.com/iframe-embed.html#code=%23include%20%3Cstdio.h%3E%0A%0A%23define%20TAM%2010%0A%0Avoid%20imprimirVector%28int%20%5B%5D%2Cint%29%3B%0A%0Aint%20main%28%29%20%7B%0A%20%20int%20A%5BTAM%5D%3B%0A%20%20int%20num%20%3D%201%3B%0A%20%20//%20Inicializando%20el%20arreglo%0A%20%20for%28int%20i%20%3D%200%3B%20i%20%3C%20TAM%3B%20i%2B%2B%29%20%7B%0A%20%20%20%20A%5Bi%5D%20%3D%2010%2Anum%3B%0A%20%20%20%20num%2B%2B%3B%20%20%20%20%20%0A%20%20%7D%0A%20%20printf%28%22A%20%3D%20%22%29%3B%0A%20%20imprimirVector%28A%2CTAM%29%3B%0A%20%20//%20Imprimiendo%20el%20arreglo%0A%20%20/%2A%0A%20%20Se%20comento%20por%20claridad%20para%20facilitar%20la%20visualizacion%20%0A%20%20%28por%20que%20se%20implemento%20como%20funcion%29%0A%20%20printf%28%22A%20%3D%20%5B%22%29%3B%0A%20%20for%28int%20i%20%3D%200%3B%20i%20%3C%20TAM%3B%20i%2B%2B%29%20%7B%0A%20%20%20%20printf%28%22%25d%20%22%2C%20A%5Bi%5D%29%3B%20%20%20%20%20%0A%20%20%7D%0A%20%20printf%28%22%5D%5Cn%22%29%3B%0A%20%20%2A/%0A%20%20return%200%3B%0A%7D%0A%0Avoid%20imprimirVector%28int%20V%5B%5D%2Cint%20tam%29%20%7B%0A%20%20printf%28%22%5B%20%22%29%3B%0A%20%20for%28int%20i%20%3D%200%3B%20i%20%3C%20tam%3B%20i%2B%2B%29%20%7B%0A%20%20%20%20printf%28%22%25d%20%22%2C%20V%5Bi%5D%29%3B%20%20%20%20%20%0A%20%20%7D%0A%20%20printf%28%22%5D%5Cn%22%29%3B%0A%7D&origin=opt-frontend.js&cumulative=false&heapPrimitives=false&textReferences=false&curInstr=0&&verticalStack=false&py=c&rawInputLstJSON=%5B%5D&codeDivWidth=50%25&codeDivHeight=100%25\"\n",
       "            frameborder=\"0\"\n",
       "            allowfullscreen\n",
       "        ></iframe>\n",
       "        "
      ],
      "text/plain": [
       "<IPython.lib.display.IFrame at 0x7f444fbae7f0>"
      ]
     },
     "metadata": {},
     "output_type": "display_data"
    }
   ],
   "source": [
    "%%tutor -l c -h 500\n",
    "#include <stdio.h>\n",
    "\n",
    "#define TAM 10\n",
    "\n",
    "void imprimirVector(int [],int);\n",
    "\n",
    "int main() {\n",
    "  int A[TAM];\n",
    "  int num = 1;\n",
    "  // Inicializando el arreglo\n",
    "  for(int i = 0; i < TAM; i++) {\n",
    "    A[i] = 10*num;\n",
    "    num++;     \n",
    "  }\n",
    "  printf(\"A = \");\n",
    "  imprimirVector(A,TAM);\n",
    "  // Imprimiendo el arreglo\n",
    "  /*\n",
    "  Se comento por claridad para facilitar la visualizacion \n",
    "  (por que se implemento como funcion)\n",
    "  printf(\"A = [\");\n",
    "  for(int i = 0; i < TAM; i++) {\n",
    "    printf(\"%d \", A[i]);     \n",
    "  }\n",
    "  printf(\"]\\n\");\n",
    "  */\n",
    "  return 0;\n",
    "}\n",
    "\n",
    "void imprimirVector(int V[],int tam) {\n",
    "  printf(\"[ \");\n",
    "  for(int i = 0; i < tam; i++) {\n",
    "    printf(\"%d \", V[i]);     \n",
    "  }\n",
    "  printf(\"]\\n\");\n",
    "}\n"
   ]
  },
  {
   "cell_type": "markdown",
   "metadata": {},
   "source": [
    "**Ejemplo 11**: Implemente el ejemplo 9 usando funciones que permitan la manipulación de arreglos"
   ]
  },
  {
   "cell_type": "code",
   "execution_count": 23,
   "metadata": {
    "scrolled": false
   },
   "outputs": [
    {
     "data": {
      "text/html": [
       "\n",
       "        <iframe\n",
       "            width=\"100%\"\n",
       "            height=\"800\"\n",
       "            src=\"http://pythontutor.com/iframe-embed.html#code=%23include%20%3Cstdio.h%3E%0A%23include%20%3Cstdlib.h%3E%20//%20required%20to%20use%20%27rand%28%29%27%0A%23include%20%3Ctime.h%3E%20%20//%20required%20to%20use%20%27srand%28time%28NULL%29%29%27%0A%23define%20TAM%2010%0A%0Avoid%20imprimirVector%28int%20V%5B%5D%2Cint%20tam%29%3B%0Avoid%20generarVectorAleatorio%28int%20V%5B%5D%2C%20int%20tam%2C%20int%20vInf%2C%20int%20vSup%29%3B%0Avoid%20copiaReversa%28int%20destino%5B%5D%2C%20int%20origen%5B%5D%2C%20int%20tam%29%20%3B%0A%0Aint%20main%28%29%20%7B%0A%20%20srand%28time%28NULL%29%29%3B%20//%20required%20for%20%22randomness%22%0A%20%20int%20A%5BTAM%5D%2C%20B%5BTAM%5D%3B%0A%20%20int%20limSup%20%3D%2020%2C%20limInf%20%3D%201%3B%20%20%0A%20%20generarVectorAleatorio%28A%2C%20TAM%2C%201%2C%2020%29%3B%0A%20%20copiaReversa%28B%2C%20A%2C%20TAM%29%3B%0A%20%20//%20Imprimiendo%20el%20arreglo%20A%0A%20%20printf%28%22A%20%3D%20%22%29%3B%0A%20%20imprimirVector%28A%2C%20TAM%29%3B%0A%20%20//%20Imprimiendo%20el%20arreglo%20B%0A%20%20printf%28%22B%20%3D%20%22%29%3B%0A%20%20imprimirVector%28B%2C%20TAM%29%3B%0A%20%20return%200%3B%20%20%0A%7D%0A%0Avoid%20generarVectorAleatorio%28int%20V%5B%5D%2C%20int%20tam%2C%20int%20vInf%2C%20int%20vSup%29%20%7B%0A%20%20for%28int%20i%20%3D%200%3B%20i%20%3C%20tam%3B%20i%2B%2B%29%20%7B%0A%20%20%20%20V%5Bi%5D%20%3D%20rand%28%29%25vSup%20%2B%20vInf%3B%20%20%20%20%20%20%20%20%20%20%20%20%0A%20%20%7D%0A%7D%0A%0Avoid%20imprimirVector%28int%20V%5B%5D%2Cint%20tam%29%20%7B%0A%20%20printf%28%22%5B%20%22%29%3B%0A%20%20for%28int%20i%20%3D%200%3B%20i%20%3C%20tam%3B%20i%2B%2B%29%20%7B%0A%20%20%20%20printf%28%22%25d%20%22%2C%20V%5Bi%5D%29%3B%20%20%20%0A%20%20%7D%0A%20%20printf%28%22%5D%5Cn%22%29%3B%0A%7D%0A%0Avoid%20copiaReversa%28int%20destino%5B%5D%2C%20int%20origen%5B%5D%2C%20int%20tam%29%20%7B%0A%20%20for%28int%20i%20%3D%200%3B%20i%20%3C%20tam%3B%20i%2B%2B%29%20%7B%0A%20%20%20%20destino%5Btam%20-%20%28i%20%2B%201%29%5D%20%3D%20origen%5Bi%5D%3B%20%20%20%0A%20%20%7D%0A%7D&origin=opt-frontend.js&cumulative=false&heapPrimitives=false&textReferences=false&curInstr=0&&verticalStack=false&py=c&rawInputLstJSON=%5B%5D&codeDivWidth=50%25&codeDivHeight=100%25\"\n",
       "            frameborder=\"0\"\n",
       "            allowfullscreen\n",
       "        ></iframe>\n",
       "        "
      ],
      "text/plain": [
       "<IPython.lib.display.IFrame at 0x7f444fbaeeb8>"
      ]
     },
     "metadata": {},
     "output_type": "display_data"
    }
   ],
   "source": [
    "%%tutor -l c -h 800\n",
    "#include <stdio.h>\n",
    "#include <stdlib.h> // required to use 'rand()'\n",
    "#include <time.h>  // required to use 'srand(time(NULL))'\n",
    "#define TAM 10\n",
    "\n",
    "void imprimirVector(int V[],int tam);\n",
    "void generarVectorAleatorio(int V[], int tam, int vInf, int vSup);\n",
    "void copiaReversa(int destino[], int origen[], int tam) ;\n",
    "\n",
    "int main() {\n",
    "  srand(time(NULL)); // required for \"randomness\"\n",
    "  int A[TAM], B[TAM];\n",
    "  int limSup = 20, limInf = 1;  \n",
    "  generarVectorAleatorio(A, TAM, 1, 20);\n",
    "  copiaReversa(B, A, TAM);\n",
    "  // Imprimiendo el arreglo A\n",
    "  printf(\"A = \");\n",
    "  imprimirVector(A, TAM);\n",
    "  // Imprimiendo el arreglo B\n",
    "  printf(\"B = \");\n",
    "  imprimirVector(B, TAM);\n",
    "  return 0;  \n",
    "}\n",
    "\n",
    "void generarVectorAleatorio(int V[], int tam, int vInf, int vSup) {\n",
    "  for(int i = 0; i < tam; i++) {\n",
    "    V[i] = rand()%vSup + vInf;            \n",
    "  }\n",
    "}\n",
    "\n",
    "void imprimirVector(int V[],int tam) {\n",
    "  printf(\"[ \");\n",
    "  for(int i = 0; i < tam; i++) {\n",
    "    printf(\"%d \", V[i]);   \n",
    "  }\n",
    "  printf(\"]\\n\");\n",
    "}\n",
    "\n",
    "void copiaReversa(int destino[], int origen[], int tam) {\n",
    "  for(int i = 0; i < tam; i++) {\n",
    "    destino[tam - (i + 1)] = origen[i];   \n",
    "  }\n",
    "}"
   ]
  },
  {
   "cell_type": "markdown",
   "metadata": {},
   "source": [
    "**Ejemplo 12**: Hacer una funcion que permita obtener el promedio de todos los elementos de un vector."
   ]
  },
  {
   "cell_type": "code",
   "execution_count": 28,
   "metadata": {},
   "outputs": [
    {
     "data": {
      "text/html": [
       "\n",
       "        <iframe\n",
       "            width=\"100%\"\n",
       "            height=\"500\"\n",
       "            src=\"http://pythontutor.com/iframe-embed.html#code=%23include%20%3Cstdio.h%3E%0A%0Avoid%20imprimirVector%28double%20%5B%5D%2Cint%29%3B%0Adouble%20sumarVector%28double%20%5B%5D%2C%20int%29%3B%0Adouble%20promedioVector%28double%20%5B%5D%2C%20int%29%3B%0A%0Aint%20main%28%29%20%7B%0A%20%20double%20A%5B%5D%20%3D%20%7B1.5%2C%202.3%2C%202.7%2C%200.5%2C%200.5%7D%3B%0A%20%20double%20prom_A%3B%0A%20%20printf%28%22A%20%3D%20%22%29%3B%0A%20%20imprimirVector%28A%2C5%29%3B%0A%20%20prom_A%20%3D%20promedioVector%28A%2C5%29%3B%0A%20%20printf%28%22prom%28A%29%20%3D%20%25.1lf%5Cn%22%2Cprom_A%29%3B%0A%20%20return%200%3B%0A%7D%0A%0A%0Avoid%20imprimirVector%28double%20V%5B%5D%2Cint%20tam%29%20%7B%0A%20%20printf%28%22%5B%20%22%29%3B%0A%20%20for%28int%20i%20%3D%200%3B%20i%20%3C%20tam%3B%20i%2B%2B%29%20%7B%0A%20%20%20%20printf%28%22%25.1lf%20%22%2C%20V%5Bi%5D%29%3B%20%20%20%20%20%0A%20%20%7D%0A%20%20printf%28%22%5D%5Cn%22%29%3B%0A%7D%0A%0Adouble%20sumarElementos%28double%20V%5B%5D%2C%20int%20tam%29%20%7B%0A%20%20double%20acum%20%3D%200%3B%0A%20%20for%28int%20i%20%3D%200%3B%20i%20%3C%20tam%3B%20i%2B%2B%29%20%7B%0A%20%20%20%20acum%20%2B%3D%20V%5Bi%5D%3B%20%20%20%20%20%0A%20%20%7D%0A%20%20return%20acum%3B%0A%7D%0A%0Adouble%20promedioVector%28double%20V%5B%5D%2C%20int%20tam%29%20%7B%0A%20%20%20%20return%20sumarElementos%28V%2Ctam%29/tam%3B%0A%7D&origin=opt-frontend.js&cumulative=false&heapPrimitives=false&textReferences=false&curInstr=0&&verticalStack=false&py=c&rawInputLstJSON=%5B%5D&codeDivWidth=50%25&codeDivHeight=100%25\"\n",
       "            frameborder=\"0\"\n",
       "            allowfullscreen\n",
       "        ></iframe>\n",
       "        "
      ],
      "text/plain": [
       "<IPython.lib.display.IFrame at 0x7f444fbaeac8>"
      ]
     },
     "metadata": {},
     "output_type": "display_data"
    }
   ],
   "source": [
    "%%tutor -l c -h 500\n",
    "#include <stdio.h>\n",
    "\n",
    "void imprimirVector(double [],int);\n",
    "double sumarVector(double [], int);\n",
    "double promedioVector(double [], int);\n",
    "\n",
    "int main() {\n",
    "  double A[] = {1.5, 2.3, 2.7, 0.5, 0.5};\n",
    "  double prom_A;\n",
    "  printf(\"A = \");\n",
    "  imprimirVector(A,5);\n",
    "  prom_A = promedioVector(A,5);\n",
    "  printf(\"prom(A) = %.1lf\\n\",prom_A);\n",
    "  return 0;\n",
    "}\n",
    "\n",
    "\n",
    "void imprimirVector(double V[],int tam) {\n",
    "  printf(\"[ \");\n",
    "  for(int i = 0; i < tam; i++) {\n",
    "    printf(\"%.1lf \", V[i]);     \n",
    "  }\n",
    "  printf(\"]\\n\");\n",
    "}\n",
    "\n",
    "double sumarElementos(double V[], int tam) {\n",
    "  double acum = 0;\n",
    "  for(int i = 0; i < tam; i++) {\n",
    "    acum += V[i];     \n",
    "  }\n",
    "  return acum;\n",
    "}\n",
    "\n",
    "double promedioVector(double V[], int tam) {\n",
    "    return sumarElementos(V,tam)/tam;\n",
    "}\n"
   ]
  },
  {
   "cell_type": "markdown",
   "metadata": {},
   "source": [
    "## Apuntadores y vectores "
   ]
  },
  {
   "cell_type": "markdown",
   "metadata": {},
   "source": [
    "Existe una correspondencia entre como accedo a un vector mediante la notacion con subindices y la notacion con apuntadores. La siguiente tabla muestra esta relación:\n",
    "\n",
    "| Notación subíndice\t| Notación puntero |\n",
    "|-----------|-------------|\n",
    "|&A[0]\t| A |\n",
    "|&A[i]\t| A + i |\n",
    "|A[0]\t| *A |\n",
    "|A[i]\t| *(A + i) |\n",
    "\n",
    "Teniendo en cuenta **la tabla de equivalencia** anteriormente mostrada podemos pasar arreglos como parametros de funciones y manipularlos en las instrucciones del cuerpo de la instruccion, esto en resumen, no es mas que hacer un cambio de los corchetes **[]** por el asterirco (propio de los apuntadores) para la parametro asociado al vector. Veamos esto usando ejemplos."
   ]
  },
  {
   "cell_type": "markdown",
   "metadata": {},
   "source": [
    "**Ejemplo 13**: en el siguiente ejemplo se muestra la modificación de un vector usando la notación vector."
   ]
  },
  {
   "cell_type": "code",
   "execution_count": 29,
   "metadata": {},
   "outputs": [
    {
     "data": {
      "text/html": [
       "\n",
       "        <iframe\n",
       "            width=\"100%\"\n",
       "            height=\"500\"\n",
       "            src=\"http://pythontutor.com/iframe-embed.html#code=%23include%20%3Cstdio.h%3E%0A%0Aint%20main%28%29%20%7B%0A%20%20int%20a%5B6%5D%3D%7B1%2C0%2C4%2C7%2C8%2C10%7D%3B%0A%20%20int%20i%2Csuma%20%3D%200%3B%0A%20%20a%5B0%5D%3D2%3B%0A%20%20a%5B3%5D%3D10%3B%0A%20%20for%28i%20%3D%201%3Bi%3C6%3Bi%2B%2B%29%20%7B%0A%20%20%20%20if%28i%252%3D%3D0%29%20%7B%0A%20%20%20%20%20%20a%5Bi%5D%20%3D%20-a%5Bi%5D%3B%0A%20%20%20%20%7D%0A%20%20%20%20else%20%7B%0A%20%20%20%20%20%20a%5Bi%5D%3Da%5Bi%5D%2B1%3B%0A%20%20%20%20%7D%0A%20%20%7D%0A%20%20return%200%3B%0A%7D&origin=opt-frontend.js&cumulative=false&heapPrimitives=false&textReferences=false&curInstr=0&&verticalStack=false&py=c&rawInputLstJSON=%5B%5D&codeDivWidth=50%25&codeDivHeight=100%25\"\n",
       "            frameborder=\"0\"\n",
       "            allowfullscreen\n",
       "        ></iframe>\n",
       "        "
      ],
      "text/plain": [
       "<IPython.lib.display.IFrame at 0x7f444fbaee80>"
      ]
     },
     "metadata": {},
     "output_type": "display_data"
    }
   ],
   "source": [
    "%%tutor -l c -h 500\n",
    "#include <stdio.h>\n",
    "\n",
    "int main() {\n",
    "  int a[6]={1,0,4,7,8,10};\n",
    "  int i,suma = 0;\n",
    "  a[0]=2;\n",
    "  a[3]=10;\n",
    "  for(i = 1;i<6;i++) {\n",
    "    if(i%2==0) {\n",
    "      a[i] = -a[i];\n",
    "    }\n",
    "    else {\n",
    "      a[i]=a[i]+1;\n",
    "    }\n",
    "  }\n",
    "  return 0;\n",
    "}"
   ]
  },
  {
   "cell_type": "markdown",
   "metadata": {},
   "source": [
    "**Ejemplo 14**: en el siguiente ejemplo se muestra la modificación de un vector usando la notación apuntador (observe como se tuvo en cuenta la tabla de equivalencias antes vista)."
   ]
  },
  {
   "cell_type": "code",
   "execution_count": 39,
   "metadata": {},
   "outputs": [
    {
     "data": {
      "text/html": [
       "\n",
       "        <iframe\n",
       "            width=\"100%\"\n",
       "            height=\"500\"\n",
       "            src=\"http://pythontutor.com/iframe-embed.html#code=%23include%20%3Cstdio.h%3E%0A%0Aint%20main%28%29%20%7B%0A%20%20int%20a%5B6%5D%3D%7B1%2C0%2C4%2C7%2C8%2C10%7D%3B%20%20%20%20%20%20%20%0A%20%20%2A%28a%20%2B%200%29%20%3D%202%3B%20%20//%20%2Aa%20%3D%202%20%20%20%20%0A%20%20%2A%28a%20%2B%203%29%3D10%3B%0A%20%20for%28int%20i%20%3D%201%3Bi%20%3C%206%3Bi%2B%2B%29%20%7B%0A%20%20%20%20if%28i%252%3D%3D0%29%20%7B%0A%20%20%20%20%20%20%2A%28a%20%2B%20i%29%20%3D%20-%2A%28a%20%2B%20i%29%3B%20%0A%20%20%20%20%7D%0A%20%20%20%20else%20%7B%0A%20%20%20%20%20%20%2A%28a%20%2B%20i%29%20%3D%20%2A%28a%20%2B%20i%29%20%2B%201%3B%0A%20%20%20%20%7D%0A%20%20%7D%0A%20%20return%200%3B%0A%7D&origin=opt-frontend.js&cumulative=false&heapPrimitives=false&textReferences=false&curInstr=0&&verticalStack=false&py=c&rawInputLstJSON=%5B%5D&codeDivWidth=50%25&codeDivHeight=100%25\"\n",
       "            frameborder=\"0\"\n",
       "            allowfullscreen\n",
       "        ></iframe>\n",
       "        "
      ],
      "text/plain": [
       "<IPython.lib.display.IFrame at 0x7f444c2e8390>"
      ]
     },
     "metadata": {},
     "output_type": "display_data"
    }
   ],
   "source": [
    "%%tutor -l c -h 500\n",
    "#include <stdio.h>\n",
    "\n",
    "int main() {\n",
    "  int a[6]={1,0,4,7,8,10};       \n",
    "  *(a + 0) = 2;  // *a = 2    \n",
    "  *(a + 3)=10;\n",
    "  for(int i = 1;i < 6;i++) {\n",
    "    if(i%2==0) {\n",
    "      *(a + i) = -*(a + i); \n",
    "    }\n",
    "    else {\n",
    "      *(a + i) = *(a + i) + 1;\n",
    "    }\n",
    "  }\n",
    "  return 0;\n",
    "}"
   ]
  },
  {
   "cell_type": "code",
   "execution_count": null,
   "metadata": {},
   "outputs": [],
   "source": []
  }
 ],
 "metadata": {
  "kernelspec": {
   "display_name": "Python 3",
   "language": "python",
   "name": "python3"
  },
  "language_info": {
   "codemirror_mode": {
    "name": "ipython",
    "version": 3
   },
   "file_extension": ".py",
   "mimetype": "text/x-python",
   "name": "python",
   "nbconvert_exporter": "python",
   "pygments_lexer": "ipython3",
   "version": "3.4.6"
  }
 },
 "nbformat": 4,
 "nbformat_minor": 2
}
