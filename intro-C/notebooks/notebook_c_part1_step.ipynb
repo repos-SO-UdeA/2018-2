{
 "cells": [
  {
   "cell_type": "markdown",
   "metadata": {},
   "source": [
    "# Introdución al lenguaje C"
   ]
  },
  {
   "cell_type": "raw",
   "metadata": {},
   "source": [
    "A continuación se muestran una serie de ejemplos sumamente sencillos con el fin de introducirlo en el lenguaje de programación en C. Cada ejemplo tendrá un enunciado y su respectiva solución en C lo único que tendra que entender es su funcionamiento básico."
   ]
  },
  {
   "cell_type": "code",
   "execution_count": 1,
   "metadata": {},
   "outputs": [],
   "source": [
    "%load_ext tutormagic"
   ]
  },
  {
   "cell_type": "markdown",
   "metadata": {},
   "source": [
    "**Ejemplo 1**: Hacer un programa en C que imprima \"Welcome to Tijuana!!!\""
   ]
  },
  {
   "cell_type": "code",
   "execution_count": 2,
   "metadata": {},
   "outputs": [
    {
     "data": {
      "text/html": [
       "\n",
       "        <iframe\n",
       "            width=\"100%\"\n",
       "            height=\"350\"\n",
       "            src=\"http://pythontutor.com/iframe-embed.html#code=%23include%20%3Cstdio.h%3E%0A%0Aint%20main%28%29%20%7B%0A%20%20printf%28%22Welcome%20to%20Tijuana%21%21%21%5Cn%22%29%3B%0A%20%20return%200%3B%0A%7D&origin=opt-frontend.js&cumulative=false&heapPrimitives=false&textReferences=false&curInstr=0&&verticalStack=false&py=c&rawInputLstJSON=%5B%5D&codeDivWidth=50%25&codeDivHeight=100%25\"\n",
       "            frameborder=\"0\"\n",
       "            allowfullscreen\n",
       "        ></iframe>\n",
       "        "
      ],
      "text/plain": [
       "<IPython.lib.display.IFrame at 0x7fefe40e6588>"
      ]
     },
     "metadata": {},
     "output_type": "display_data"
    }
   ],
   "source": [
    "%%tutor -l c\n",
    "#include <stdio.h>\n",
    "\n",
    "int main() {\n",
    "  printf(\"Welcome to Tijuana!!!\\n\");\n",
    "  return 0;\n",
    "}"
   ]
  },
  {
   "cell_type": "markdown",
   "metadata": {},
   "source": [
    "Como en cualquier lenguaje de programación C maneja varios tipos de datos (https://www.geeksforgeeks.org/data-types-in-c/). La siguiente tabla muestra los diferentes tipos de datos asi como su rango. Preste especial atención a la última columna **Especificador de formato** pues la necesitará despues:\n",
    "\n",
    "\n",
    "\n",
    "| Tipo de dato                                | Tamaño (en bytes) | Rango                     | Especificador de formato |\n",
    "|---------------------------------------------|-------------------|---------------------------|--------------------------|\n",
    "| short (short int)                           | 2                 | -32768 to 32767           | %hd                      |\n",
    "| unsigned short (unsigned short int)         | 2                 | 0 to 65535                | %hu                      |\n",
    "| unsigned (unsigned int)                     | 4                 | 0 to 4294967295           | %u                       |\n",
    "| int                                         | 4                 | 2147483648 to 2147483647  | %d                       |\n",
    "| long (long int)                             | 4                 | 2147483648 to 2147483647  | %ld                      |\n",
    "| unsigned long (unsigned long int)           | 4                 | 0 to 4294967295           | %lu                      |\n",
    "| long long (long long int)                   | 8                 | -(2^63) to (2^63)-1       | %lld                     |\n",
    "| unsigned long long (unsigned long long int) | 8                 | 0 to 18446744073709551615 | %llu                     |\n",
    "| char (signed char)                          | 1                 | -128 to 127               | %c                       |\n",
    "| unsigned char                               | 1                 | 0 to 255                  | %c                       |\n",
    "| float                                       | 4                 |                           | %f                       |\n",
    "| double                                      | 8                 |                           | %lf                      |\n",
    "| long double                                 | 12                |                           | %Lf                      |"
   ]
  },
  {
   "cell_type": "markdown",
   "metadata": {},
   "source": [
    "**Ejemplo 2**:"
   ]
  },
  {
   "cell_type": "code",
   "execution_count": 3,
   "metadata": {},
   "outputs": [
    {
     "data": {
      "text/html": [
       "\n",
       "        <iframe\n",
       "            width=\"100%\"\n",
       "            height=\"350\"\n",
       "            src=\"http://pythontutor.com/iframe-embed.html#code=%23include%20%3Cstdio.h%3E%0A%0Aint%20main%28%29%20%7B%0A%20%20int%20i%2C%20j%2C%20k%3B%0A%20%20float%20length%2C%20height%3B%0A%20%20char%20midinit%3B%0A%20%20float%20total%20%3D%2016.78%3B%0A%20%20int%20a%20%3D%201%2C%20b%20%3D%202%3B%0A%20%20char%20ac%20%3D%20%27%40%27%3B%0A%20%20const%20int%20IVA%20%3D%2019%3B%0A%20%20return%200%3B%0A%7D&origin=opt-frontend.js&cumulative=false&heapPrimitives=false&textReferences=false&curInstr=0&&verticalStack=false&py=c&rawInputLstJSON=%5B%5D&codeDivWidth=50%25&codeDivHeight=100%25\"\n",
       "            frameborder=\"0\"\n",
       "            allowfullscreen\n",
       "        ></iframe>\n",
       "        "
      ],
      "text/plain": [
       "<IPython.lib.display.IFrame at 0x7fefe40e6978>"
      ]
     },
     "metadata": {},
     "output_type": "display_data"
    }
   ],
   "source": [
    "%%tutor -l c\n",
    "#include <stdio.h>\n",
    "\n",
    "int main() {\n",
    "  int i, j, k;\n",
    "  float length, height;\n",
    "  char midinit;\n",
    "  float total = 16.78;\n",
    "  int a = 1, b = 2;\n",
    "  char ac = '@';\n",
    "  const int IVA = 19;\n",
    "  return 0;\n",
    "}"
   ]
  },
  {
   "cell_type": "markdown",
   "metadata": {},
   "source": [
    "**Ejemplo 3**:"
   ]
  },
  {
   "cell_type": "code",
   "execution_count": 5,
   "metadata": {},
   "outputs": [
    {
     "data": {
      "text/html": [
       "\n",
       "        <iframe\n",
       "            width=\"100%\"\n",
       "            height=\"350\"\n",
       "            src=\"http://pythontutor.com/iframe-embed.html#code=%23include%20%3Cstdio.h%3E%0A%0Aint%20main%28%29%20%7B%0A%20%20char%20s1%5B6%5D%3B%0A%20%20char%20s2%5B5%5D%20%3D%20%22Hola%22%3B%0A%20%20char%20s3%5B%5D%20%3D%20%22zzz%22%3B%0A%20%20return%200%3B%0A%7D&origin=opt-frontend.js&cumulative=false&heapPrimitives=false&textReferences=false&curInstr=0&&verticalStack=false&py=c&rawInputLstJSON=%5B%5D&codeDivWidth=50%25&codeDivHeight=100%25\"\n",
       "            frameborder=\"0\"\n",
       "            allowfullscreen\n",
       "        ></iframe>\n",
       "        "
      ],
      "text/plain": [
       "<IPython.lib.display.IFrame at 0x7fefe40e69e8>"
      ]
     },
     "metadata": {},
     "output_type": "display_data"
    }
   ],
   "source": [
    "%%tutor -l c\n",
    "#include <stdio.h>\n",
    "\n",
    "int main() {\n",
    "  char s1[6];\n",
    "  char s2[5] = \"Hola\";\n",
    "  char s3[] = \"zzz\";\n",
    "  return 0;\n",
    "}"
   ]
  },
  {
   "cell_type": "markdown",
   "metadata": {},
   "source": [
    "**Pregunta**: ¿Por que en los ejemplos 2 y 3 no hay nada en pantalla?"
   ]
  },
  {
   "cell_type": "markdown",
   "metadata": {},
   "source": [
    "## Entrada y salida "
   ]
  },
  {
   "cell_type": "markdown",
   "metadata": {},
   "source": [
    "### Salida en pantalla"
   ]
  },
  {
   "cell_type": "markdown",
   "metadata": {},
   "source": [
    "La forma de la función se muestra a continuacion:\n",
    "\n",
    "```C\n",
    "int printf(const char *format[,argumento,...]);\n",
    "```\n",
    "\n",
    "La función ```printf()``` se usa para escribir cualquier tipo de dato a la consola. Se conoce como salida formateada pues convierte, formatea, e imprime sus argumentos (arg1, arg2, ...) en la salida estándar. Para ello toma el formato establecido por el usuario en el argumento format (ver en la tabla 1 la columna especificador de formato asociada a cada tipo de dato). Para informacion adicional puede consultar el siguiente [enlace](http://c.conclase.net/librerias/?ansifun=printf#inicio)"
   ]
  },
  {
   "cell_type": "markdown",
   "metadata": {},
   "source": [
    "### Entrada "
   ]
  },
  {
   "cell_type": "markdown",
   "metadata": {},
   "source": [
    "La forma de la función se muestra a continuacion:\n",
    "\n",
    "```C\n",
    "int scanf(const char *format[,arg1,arg2...]);\n",
    "```\n",
    "La función ```scanf()``` se usa para leer cualquier tipo de dato predefinido desde el teclado, y convertirlo de forma automática al formato interno adecuado.\n",
    "\n",
    "Esta funcion lee caracteres desde el flujo de entrada estándar, los interpreta según lo especificado en **format**, y los almacena en los argumentos. Cada argumento debe ser la dirección de la variable donde será almacenado el carácter. Retorna el número de ítems (argumentos) de entrada emparejados con éxito (almacenados). Los identificadores de formato para scanf son los mismos que para printf."
   ]
  },
  {
   "cell_type": "markdown",
   "metadata": {},
   "source": [
    "### Especificadores de formato mas comunes en C "
   ]
  },
  {
   "cell_type": "markdown",
   "metadata": {},
   "source": [
    "Se asocian al tipo de dato a mostrar a la salida. La siguiente tabla muestra los especificadores de formato mas comunes en C.\n",
    "\n",
    "|Especificador de formato  | Tipo de dato |\n",
    "|----------------|--------------------------|\n",
    "| %d                         |int   |\n",
    "| %c                         |char   |\n",
    "| %s                         |char[] (cadena de caracteres)   |\n",
    "| %f                         |float   |\n",
    "| %lf                         |double   |\n",
    "| %e                         |float (El resultado se muestra en notación exponencial)   |\n",
    "| %u                         |unsigned   |\n",
    "| %o                         |unsigned (el resultado se muestra en formato octal)   |\n",
    "| %x                         |unsigned (el resultado se muestra en formato hexadecimal)   |\n",
    "\n",
    "Para empezar observe el siguiente código y entiendalo"
   ]
  },
  {
   "cell_type": "code",
   "execution_count": 6,
   "metadata": {},
   "outputs": [
    {
     "data": {
      "text/html": [
       "\n",
       "        <iframe\n",
       "            width=\"100%\"\n",
       "            height=\"350\"\n",
       "            src=\"http://pythontutor.com/iframe-embed.html#code=%23include%20%3Cstdio.h%3E%0A%0Aint%20main%28%29%20%7B%0A%20%20printf%28%22Color%20%25s%2C%20Number%20%25d%2C%20Float%20%255.2f%5Cn%22%2C%20%22red%22%2C%2012345%2C%203.14%29%3B%0A%20%20return%200%3B%0A%7D&origin=opt-frontend.js&cumulative=false&heapPrimitives=false&textReferences=false&curInstr=0&&verticalStack=false&py=c&rawInputLstJSON=%5B%5D&codeDivWidth=50%25&codeDivHeight=100%25\"\n",
       "            frameborder=\"0\"\n",
       "            allowfullscreen\n",
       "        ></iframe>\n",
       "        "
      ],
      "text/plain": [
       "<IPython.lib.display.IFrame at 0x7fefe40e69b0>"
      ]
     },
     "metadata": {},
     "output_type": "display_data"
    }
   ],
   "source": [
    "%%tutor -l c\n",
    "#include <stdio.h>\n",
    "\n",
    "int main() {\n",
    "  printf(\"Color %s, Number %d, Float %5.2f\\n\", \"red\", 12345, 3.14);\n",
    "  return 0;\n",
    "}"
   ]
  },
  {
   "cell_type": "markdown",
   "metadata": {},
   "source": [
    "**Ejemplo 4**: ¿Cual es la salida del siguiente código?"
   ]
  },
  {
   "cell_type": "code",
   "execution_count": 22,
   "metadata": {},
   "outputs": [
    {
     "data": {
      "text/html": [
       "\n",
       "        <iframe\n",
       "            width=\"100%\"\n",
       "            height=\"600\"\n",
       "            src=\"http://pythontutor.com/iframe-embed.html#code=%23include%20%3Cstdio.h%3E%0A%0Aint%20main%28%29%20%7B%0A%20%20printf%28%22ABC%22%29%3B%0A%20%20printf%28%22%5Cn%22%29%3B%0A%20%20printf%28%22---%5Cn%22%29%3B%0A%20%20printf%28%22%25d%5Cn%22%2C5%29%3B%0A%20%20printf%28%22---%5Cn%22%29%3B%0A%20%20printf%28%22%25c%20%25c%20%25c%5Cn%22%2C%27A%27%2C%27B%27%2C%27C%27%29%3B%0A%20%20printf%28%22---%5Cn%22%29%3B%0A%20%20printf%28%22From%20sea%20%22%29%3B%0A%20%20printf%28%22to%20shining%20%22%29%3B%0A%20%20printf%28%22C%5Cn%22%29%3B%0A%20%20printf%28%22---%5Cn%22%29%3B%0A%20%20float%20leg1%20%3D%20200.3%2C%20leg2%20%3D%20357.4%3B%0A%20%20printf%28%22If%20was%20%25f%20miles%5Cn%22%2C%20leg1%20%2B%20leg2%29%3B%0A%20%20printf%28%22---%5Cn%22%29%3B%0A%20%20int%20num1%20%3D%2010%2C%20num2%20%3D%2033%3B%0A%20%20printf%28%22%25d%5Ct%25d%5Cn%22%2C%20num1%2C%20num2%29%3B%0A%20%20printf%28%22---%5Cn%22%29%3B%0A%20%20float%20big%20%3D%2011e%2B23%3B%0A%20%20printf%28%22%25e%5Cn%22%2C%20big%29%3B%0A%20%20printf%28%22---%5Cn%22%29%3B%0A%20%20printf%28%22%25c%5Cn%22%2C%27%3F%27%29%3B%0A%20%20printf%28%22%25d%5Cn%22%2C%27%3F%27%29%3B%0A%20%20printf%28%22---%5Cn%22%29%3B%0A%20%20return%200%3B%0A%7D&origin=opt-frontend.js&cumulative=false&heapPrimitives=false&textReferences=false&curInstr=0&&verticalStack=false&py=c&rawInputLstJSON=%5B%5D&codeDivWidth=50%25&codeDivHeight=100%25\"\n",
       "            frameborder=\"0\"\n",
       "            allowfullscreen\n",
       "        ></iframe>\n",
       "        "
      ],
      "text/plain": [
       "<IPython.lib.display.IFrame at 0x7fefe40f90f0>"
      ]
     },
     "metadata": {},
     "output_type": "display_data"
    }
   ],
   "source": [
    "%%tutor -l c -h 600\n",
    "#include <stdio.h>\n",
    "\n",
    "int main() {\n",
    "  printf(\"ABC\");\n",
    "  printf(\"\\n\");\n",
    "  printf(\"---\\n\");\n",
    "  printf(\"%d\\n\",5);\n",
    "  printf(\"---\\n\");\n",
    "  printf(\"%c %c %c\\n\",'A','B','C');\n",
    "  printf(\"---\\n\");\n",
    "  printf(\"From sea \");\n",
    "  printf(\"to shining \");\n",
    "  printf(\"C\\n\");\n",
    "  printf(\"---\\n\");\n",
    "  float leg1 = 200.3, leg2 = 357.4;\n",
    "  printf(\"If was %f miles\\n\", leg1 + leg2);\n",
    "  printf(\"---\\n\");\n",
    "  int num1 = 10, num2 = 33;\n",
    "  printf(\"%d\\t%d\\n\", num1, num2);\n",
    "  printf(\"---\\n\");\n",
    "  float big = 11e+23;\n",
    "  printf(\"%e\\n\", big);\n",
    "  printf(\"---\\n\");\n",
    "  printf(\"%c\\n\",'?');\n",
    "  printf(\"%d\\n\",'?');\n",
    "  printf(\"---\\n\");\n",
    "  return 0;\n",
    "}"
   ]
  },
  {
   "cell_type": "markdown",
   "metadata": {},
   "source": [
    "**Ejemplo 5 - Mostrando en pantalla datos enteros**: Se muestra la salida al imprimir datos reales. Tenga en cuenta la siguiente tabla:\n",
    "\n",
    "\n",
    "|Especificador de formato  | Tipo de dato |\n",
    "|----------------|--------------------------|\n",
    "| %[alineación][ancho]c | char   |\n",
    "| %[alineación][ancho]d | int |"
   ]
  },
  {
   "cell_type": "code",
   "execution_count": 18,
   "metadata": {},
   "outputs": [
    {
     "data": {
      "text/html": [
       "\n",
       "        <iframe\n",
       "            width=\"100%\"\n",
       "            height=\"500\"\n",
       "            src=\"http://pythontutor.com/iframe-embed.html#code=%23include%20%3Cstdio.h%3E%0A%0Aint%20main%28%29%20%7B%0A%20%20char%20lett%3D%27w%27%3B%0A%20%20int%20i%3D1%2Cj%3D29%3B%0A%20%20printf%28%22%25c%5Cn%22%2Clett%29%3B%0A%20%20printf%28%22%254c%5Cn%22%2Clett%29%3B%0A%20%20printf%28%22%25-3c%5Cn%5Cn%22%2Clett%29%3B%0A%20%20printf%28%22%25d%5Cn%22%2Ci%29%3B%0A%20%20printf%28%22%25d%5Cn%22%2Cj%29%3B%0A%20%20printf%28%22%2510d%5Cn%22%2Cj%29%3B%0A%20%20printf%28%22%25010d%5Cn%22%2Cj%29%3B%0A%20%20printf%28%22%25-10d%5Cn%22%2Cj%29%3B%0A%20%20printf%28%22%252o%5Cn%22%2Cj%29%3B%0A%20%20printf%28%22%252x%5Cn%22%2Cj%29%3B%0A%20%20return%200%3B%0A%7D&origin=opt-frontend.js&cumulative=false&heapPrimitives=false&textReferences=false&curInstr=0&&verticalStack=false&py=c&rawInputLstJSON=%5B%5D&codeDivWidth=50%25&codeDivHeight=100%25\"\n",
       "            frameborder=\"0\"\n",
       "            allowfullscreen\n",
       "        ></iframe>\n",
       "        "
      ],
      "text/plain": [
       "<IPython.lib.display.IFrame at 0x7fefe40f9ba8>"
      ]
     },
     "metadata": {},
     "output_type": "display_data"
    }
   ],
   "source": [
    "%%tutor -l c -h 500\n",
    "#include <stdio.h>\n",
    "\n",
    "int main() {\n",
    "  char lett='w';\n",
    "  int i=1,j=29;\n",
    "  printf(\"%c\\n\",lett);\n",
    "  printf(\"%4c\\n\",lett);\n",
    "  printf(\"%-3c\\n\\n\",lett);\n",
    "  printf(\"%d\\n\",i);\n",
    "  printf(\"%d\\n\",j);\n",
    "  printf(\"%10d\\n\",j);\n",
    "  printf(\"%010d\\n\",j);\n",
    "  printf(\"%-10d\\n\",j);\n",
    "  printf(\"%2o\\n\",j);\n",
    "  printf(\"%2x\\n\",j);\n",
    "  return 0;\n",
    "}"
   ]
  },
  {
   "cell_type": "markdown",
   "metadata": {},
   "source": [
    "**Ejemplo 6 - Mostrando en pantalla datos reales**: Se muestra la salida al imprimir datos reales. Tenga en cuenta la siguiente tabla:\n",
    "\n",
    "|Especificador de formato  | Tipo de dato | Ejemplo | Resultado |\n",
    "|----------------|--------------------------|----|---|\n",
    "| %[alineación][ancho].[decimales]f| float   | printf(\"%10.4f\",4.0/3.0)|_ _ _ _1.3333 |\n",
    "| %[alineación][ancho].[decimales]e| float   | printf(\"%10.4e\",4.0/3.0)|_1.333e+10|"
   ]
  },
  {
   "cell_type": "code",
   "execution_count": 17,
   "metadata": {},
   "outputs": [
    {
     "data": {
      "text/html": [
       "\n",
       "        <iframe\n",
       "            width=\"100%\"\n",
       "            height=\"500\"\n",
       "            src=\"http://pythontutor.com/iframe-embed.html#code=%23include%20%3Cstdio.h%3E%0A%0Aint%20main%28%29%20%7B%0A%20%20float%20x%3D333.123456%3B%0A%20%20double%20y%3D333.1234567890123456%3B%0A%20%20printf%28%22%25f%5Cn%22%2Cx%29%3B%0A%20%20printf%28%22%25.1f%5Cn%22%2Cx%29%3B%0A%20%20printf%28%22%2520.3f%5Cn%22%2Cx%29%3B%0A%20%20printf%28%22%25-20.3f%5Cn%22%2Cx%29%3B%0A%20%20printf%28%22%25020.3f%5Cn%22%2Cx%29%3B%0A%20%20printf%28%22%25f%5Cn%22%2Cy%29%3B%0A%20%20printf%28%22%25.9f%5Cn%22%2Cy%29%3B%0A%20%20printf%28%22%25.20f%5Cn%22%2Cy%29%3B%0A%20%20printf%28%22%2520.4e%5Cn%22%2Cy%29%3B%20%20%0A%20%20return%200%3B%0A%7D&origin=opt-frontend.js&cumulative=false&heapPrimitives=false&textReferences=false&curInstr=0&&verticalStack=false&py=c&rawInputLstJSON=%5B%5D&codeDivWidth=50%25&codeDivHeight=100%25\"\n",
       "            frameborder=\"0\"\n",
       "            allowfullscreen\n",
       "        ></iframe>\n",
       "        "
      ],
      "text/plain": [
       "<IPython.lib.display.IFrame at 0x7fefe40f91d0>"
      ]
     },
     "metadata": {},
     "output_type": "display_data"
    }
   ],
   "source": [
    "%%tutor -l c -h 500\n",
    "#include <stdio.h>\n",
    "\n",
    "int main() {\n",
    "  float x=333.123456;\n",
    "  double y=333.1234567890123456;\n",
    "  printf(\"%f\\n\",x);\n",
    "  printf(\"%.1f\\n\",x);\n",
    "  printf(\"%20.3f\\n\",x);\n",
    "  printf(\"%-20.3f\\n\",x);\n",
    "  printf(\"%020.3f\\n\",x);\n",
    "  printf(\"%f\\n\",y);\n",
    "  printf(\"%.9f\\n\",y);\n",
    "  printf(\"%.20f\\n\",y);\n",
    "  printf(\"%20.4e\\n\",y);  \n",
    "  return 0;\n",
    "}"
   ]
  },
  {
   "cell_type": "markdown",
   "metadata": {},
   "source": [
    "**Ejemplo 7 - Mostrando en pantalla cadenas de caracteres**: Se muestra la salida al imprimir datos reales. Tenga en cuenta la siguiente tabla. ([Código online](https://goo.gl/Z7de6H)):\n",
    "\n",
    "|Especificador de formato  | Tipo de dato | Ejemplo | Resultado |\n",
    "|----------------|--------------------------|----|---|\n",
    "| %[alineación][ancho].[Máximo_número_de_caracteres_a_imprimir]s| char[]   | printf(\"%3.4s\\n\",\"Sheridan\")|Sher|\n"
   ]
  },
  {
   "cell_type": "code",
   "execution_count": 15,
   "metadata": {},
   "outputs": [
    {
     "data": {
      "text/html": [
       "\n",
       "        <iframe\n",
       "            width=\"100%\"\n",
       "            height=\"500\"\n",
       "            src=\"http://pythontutor.com/iframe-embed.html#code=%23include%20%3Cstdio.h%3E%0A%0Aint%20main%28%29%20%7B%0A%20%20char%20s%5B%5D%3D%22an%20evil%20presence%22%3B%0A%20%20printf%28%22%25s%5Cn%22%2Cs%29%3B%0A%20%20printf%28%22%257s%5Cn%22%2Cs%29%3B%0A%20%20printf%28%22%2520s%5Cn%22%2Cs%29%3B%0A%20%20printf%28%22%25-20s%5Cn%22%2Cs%29%3B%0A%20%20printf%28%22%25.5s%5Cn%22%2Cs%29%3B%0A%20%20printf%28%22%25.12s%5Cn%22%2Cs%29%3B%0A%20%20printf%28%22%2515.12s%5Cn%22%2Cs%29%3B%0A%20%20printf%28%22%25-15.12s%5Cn%22%2Cs%29%3B%0A%20%20printf%28%22%253.12s%5Cn%22%2Cs%29%3B%0A%20%20return%200%3B%0A%7D&origin=opt-frontend.js&cumulative=false&heapPrimitives=false&textReferences=false&curInstr=0&&verticalStack=false&py=c&rawInputLstJSON=%5B%5D&codeDivWidth=50%25&codeDivHeight=100%25\"\n",
       "            frameborder=\"0\"\n",
       "            allowfullscreen\n",
       "        ></iframe>\n",
       "        "
      ],
      "text/plain": [
       "<IPython.lib.display.IFrame at 0x7fefe40f92e8>"
      ]
     },
     "metadata": {},
     "output_type": "display_data"
    }
   ],
   "source": [
    "%%tutor -l c -h 500\n",
    "#include <stdio.h>\n",
    "\n",
    "int main() {\n",
    "  char s[]=\"an evil presence\";\n",
    "  printf(\"%s\\n\",s);\n",
    "  printf(\"%7s\\n\",s);\n",
    "  printf(\"%20s\\n\",s);\n",
    "  printf(\"%-20s\\n\",s);\n",
    "  printf(\"%.5s\\n\",s);\n",
    "  printf(\"%.12s\\n\",s);\n",
    "  printf(\"%15.12s\\n\",s);\n",
    "  printf(\"%-15.12s\\n\",s);\n",
    "  printf(\"%3.12s\\n\",s);\n",
    "  return 0;\n",
    "}"
   ]
  },
  {
   "cell_type": "markdown",
   "metadata": {},
   "source": [
    "### Ejemplo con entrada y salida"
   ]
  },
  {
   "cell_type": "markdown",
   "metadata": {},
   "source": [
    "Al codificar los siguientes ejemplos se puede ver el uso de ```C printf() ``` y ```C scanf()``` para hacer que los programas sea interactivos:\n",
    "\n",
    "**Ejemplo 8**: El código solución es [p1_ex8.c](./codes/part1/p1_ex8.c) compilelo y ejecutelo.\n",
    "\n",
    "```C \n",
    "#include <stdio.h>\n",
    "\n",
    "int main() {\n",
    "  int edad;\n",
    "  float estatura;\n",
    "  printf(\"Digite la edad: \");\n",
    "  scanf(\"%d\", &edad);\n",
    "  printf(\"Digite la estatura (en metros): \");\n",
    "  scanf(\"%f\", &estatura);\n",
    "  printf(\"\\n------------------------------------------\\n\");\n",
    "  printf(\"Edad: %d\\n\",edad);\n",
    "  printf(\"Estatura %f\\n\",estatura);\n",
    "  return 0;\n",
    "}\n",
    "```\n",
    "\n",
    "A continuación se muestra un caso de uso de este programa una vez compilado (note el uso de & para la lectura de las variables):\n",
    "\n",
    "```\n",
    "Digite la edad: 3\n",
    "Digite la estatura (en metros): 0.8\n",
    "\n",
    "------------------------------------------\n",
    "Edad: 3\n",
    "Estatura 0.800000\n",
    "```\n",
    "\n",
    "**Ejemplo 9**: El código solución es [p1_ex9.c](./codes/part1/p1_ex9.c) compilelo y ejecutelo.\n",
    "\n",
    "```C \n",
    "#include <stdio.h>\n",
    "\n",
    "int main() {\n",
    "  char nombre[15]; // Almacena maximo 14 caracteres\n",
    "  printf(\"Digite el nombre: \");\n",
    "  scanf(\"%s\",nombre);\n",
    "  printf(\"\\nHola: %s\\n\",nombre);\n",
    "  return 0;\n",
    "}\n",
    "```\n",
    "\n",
    "El caso de uso se muestra a continuación (a diferencia del primer ejemplo no se uso &):\n",
    "\n",
    "```\n",
    "Digite el nombre: Ramon\n",
    "\n",
    "Hola: Ramon\n",
    "```"
   ]
  },
  {
   "cell_type": "markdown",
   "metadata": {},
   "source": [
    "### Ejercicios de refuerzo para clase (Parte 1)"
   ]
  },
  {
   "cell_type": "markdown",
   "metadata": {},
   "source": [
    "1. Escriba un programa que use una llamada printf() para imprimir su nombre y su apellido en una línea, use una segunda llamada printf() para imprimir su nombre y su apellido en dos líneas separadas, y use un par de llamadas a printf() para imprimir su nombre y apellido en una línea. La salida del programa podrá ser como esta (pero usando su nombre):\n",
    "2. Escriba un programa convierta su edad en años a días. En este punto, no se preocupe sobre los años fraccionales y años bisiestos.\n",
    "3. Escriba un programa que cree una variable entera llamada toes. Luego que haga esto, le lleve 10 a toes. El programa debe calcular el doble y el cuadrado de toes también. El programa imprimirá todos estos tres valores identificándolos.\n",
    "4. Escriba un programa que solicite un valor en código ASCII, tal como 66, y entonces imprima el carácter asociado a dicho código ASCII.\n",
    "5. Escriba un programa que lea un número en punto flotante y lo imprima primero en notación de punto decimal y luego en notación exponencial. La salida debe tener el siguiente formato:\n",
    "6. Escriba un programa que le pregunte por su nombre y apellido y entonces imprima los nombre en formato apellido, nombre.\n",
    "7. Escriba un programa que solicite su altura en pulgadas y su nombre, y entonces despliegue la información en el siguiente formato:\n",
    "\n",
    "```\n",
    "Dabney, you are 6.208 feet tall\n",
    "```\n",
    "\n",
    "Es lo que se imprime en caso de que el nombre ingresado sea Dabney y la altura sea 6.298"
   ]
  },
  {
   "cell_type": "markdown",
   "metadata": {},
   "source": [
    "## Estructuras de Control"
   ]
  },
  {
   "cell_type": "markdown",
   "metadata": {},
   "source": [
    "Las Instrucciones de control en C son similares a las de Java. Por lo cual lo único que se hara es limitarnos a mostrar elemplos"
   ]
  },
  {
   "cell_type": "markdown",
   "metadata": {},
   "source": [
    "#### Estructura if/else if/else "
   ]
  },
  {
   "cell_type": "markdown",
   "metadata": {},
   "source": [
    "**Ejemplo 10**: Se tiene la siguiente tabla en la cual se muestra el equivalente entre números y letras para la calificación de notas en una guardería. Realizar un algoritmo en C que tomando como base dicha tabla y como entrada las notas, imprima la nota en letras correspondiente.\n",
    "\n",
    "| Rango                               | Nota | \n",
    "|---------------------------------------------|-------------------|\n",
    "| nota >= 4.5                          | E              | \n",
    "| 4.0 <= nota < 4.5                          | B+              | \n",
    "| 3.5 <= nota < 4.0                          | B              | \n",
    "| 3.0 <= nota < 3.5                          | B-              | \n",
    "| nota < 3                          | I             | \n",
    "\n",
    "Una muestra de la salida del programa se muestra a continuación:\n",
    "\n",
    "```\n",
    "Introduzca la nota que saco el pelao: 3.2\n",
    "La nota es: -B\n",
    "```\n",
    "\n",
    "**Solución**: El codigo solución es [p1_ex10.c](./codes/part1/p1_ex10.c). Compilelo y ejecutelo.\n",
    "\n",
    "```C\n",
    "#include <stdio.h>\n",
    "\n",
    "int main() {\n",
    "  float nota;\n",
    "  printf(\"Introduzca la nota que saco el pelao: \");\n",
    "  scanf(\"%f\",&nota);\n",
    "  /* Implementacion con if anidados */\n",
    "  if(nota >= 4.5) {\n",
    "    // nota >= 4.5 --> E\n",
    "\tprintf(\"La nota es: E\\n\");\n",
    "  }\n",
    "  else if(nota >= 4.0) {\n",
    "    // nota < 4.5 y nota >= 4.0 --> 4 <= nota < 4.5 --> B+\n",
    "\tprintf(\"La nota es: B+\\n\");\n",
    "  }\n",
    "  else if(nota >= 3.5) {\n",
    "\t// nota < 4.0 y nota >= 3.5 --> 3.5 <= nota < 4 --> B\n",
    "\tprintf(\"La nota es: B\\n\");\n",
    "  }\n",
    "  else if(nota >= 3.0) {\n",
    "\t// nota < 3.5 y nota >= 3.0 --> 3.0 <= nota < 3.5 --> B-\n",
    "\tprintf(\"La nota es: B-\\n\");\n",
    "  }\n",
    "  else {\n",
    "\t// nota < 3.0\n",
    "\tprintf(\"La nota es: I\\n\");\n",
    "  }\n",
    "  return 0;\n",
    "}\n",
    "```"
   ]
  },
  {
   "cell_type": "markdown",
   "metadata": {},
   "source": [
    "#### Estructura switch"
   ]
  },
  {
   "cell_type": "markdown",
   "metadata": {},
   "source": [
    "**Ejemplo 11**: En la siguiente tabla se muestran las categorías a las que pertenecen los signos del zodíaco:\n",
    "\n",
    "| Rango                               | Nota | \n",
    "|---------------------------------------------|-------------------|\n",
    "| Aries                       | Fuego              | \n",
    "| Tauro                          | Tierra              | \n",
    "| Géminis                          | Agua              | \n",
    "| Cáncer                          | Aire              | \n",
    "| Leo                          | Fuego             | \n",
    "| Virgo                          | Tierra             | \n",
    "| Libra                         | Aire            | \n",
    "| Escorpio                          | Agua             | \n",
    "| Sagitario                         | Fuego             | \n",
    "| Capricornio                         | Tierra             |\n",
    "| Acuario                         | Aire             |\n",
    "| Piscis                        | Agua             |\n",
    "\n",
    "Se quiere escribir un programa en C que:\n",
    "1. Muestre el listado de los signos del zodiaco.\n",
    "2. Pida por teclado un número (dato entero) asociado a un signo del zodiaco.\n",
    "3. Muestre la categoría a la que pertenece el signo del zodiaco seleccionado.\n",
    "\n",
    "**Nota**: Si el número introducido por el usuario, no está asociado a ningún signo del zodiaco, se mostrará\n",
    "el mensaje: **\"ERROR: <numero> no está asociado a ningún signo\"**. Hacer este problema usando la sentencia switch.\n",
    "    \n",
    "**Solución**: El codigo solución es [p1_ex11.c](./codes/part1/p1_ex11.c). Compilelo y ejecutelo.\n",
    "\n",
    "```C\n",
    "#include <stdio.h>\n",
    "\n",
    "#define ARIES 1\n",
    "#define TAURO 2\n",
    "#define GEMINIS 3\n",
    "#define CANCER 4\n",
    "#define LEO 5\n",
    "#define VIRGO 6\n",
    "#define LIBRA 7\n",
    "#define ESCORPIO 8\n",
    "#define SAGITARIO 9\n",
    "#define CAPRICORNIO 10\n",
    "#define ACUARIO 11\n",
    "#define PISCIS 12\n",
    "\n",
    "int main() {\n",
    "  int signo;\n",
    "  printf(\"SIGNOS DEL ZODIACO\\n\");\n",
    "  printf(\"1. Aries\\n\");\n",
    "  printf(\"2. Tauro\\n\");\n",
    "  printf(\"3. Géminis\\n\");\n",
    "  printf(\"4. Cáncer\\n\");\n",
    "  printf(\"5. Leo\\n\");\n",
    "  printf(\"6. Virgo\\n\");\n",
    "  printf(\"7. Libra\\n\");\n",
    "  printf(\"8. Escorpio\\n\");\n",
    "  printf(\"9. Sagitario\\n\");\n",
    "  printf(\"10. Capricornio\\n\");\n",
    "  printf(\"11. Acuario\\n\");\n",
    "  printf(\"12. Piscis\\n\\n\");\n",
    "  printf(\"Seleccione el signo del zodiaco de su preferencia: \");\n",
    "  scanf(\"%d\",&signo);\n",
    "  switch(signo) {\n",
    "\t  case ARIES:\n",
    "\t  case LEO:\n",
    "\t  case SAGITARIO:\n",
    "\t    printf(\"Su signo es categoria fuego\\n\");\n",
    "\t\tbreak;\n",
    "\t  case TAURO:\n",
    "          case VIRGO:\t  \n",
    "          case CAPRICORNIO:\n",
    "\t    printf(\"Su signo es categoria tierra\\n\");\n",
    "\t    break;\n",
    "\t  case GEMINIS:\n",
    "          case ESCORPIO:\t  \n",
    "\t  case PISCIS:\n",
    "\t    printf(\"Su signo es categoria agua\\n\");\n",
    "\t    break;\n",
    "\t  case CANCER:\n",
    "          case LIBRA:\t  \n",
    "\t  case ACUARIO:\n",
    "\t    printf(\"Su signo es categoria aire\\n\");\n",
    "\t    break;\n",
    "\t  default:\n",
    "\t    printf(\"\\\"ERROR\\\": no está asociado a ningún signo\\n\");\n",
    "  }\n",
    "  return 0;\n",
    "}\n",
    "```"
   ]
  },
  {
   "cell_type": "markdown",
   "metadata": {},
   "source": [
    "### Estructura repetitiva"
   ]
  },
  {
   "cell_type": "markdown",
   "metadata": {},
   "source": [
    "#### Estructura for"
   ]
  },
  {
   "cell_type": "markdown",
   "metadata": {},
   "source": [
    "**Ejemplo 12**: Escriba un programa que sume una secuencia de enteros. Suponga que el primer entero que se lee especifica el número de valores que faltan por introducir. Su programa deberá leer un solo valor por instrucción de entrada. Una secuencia de entrada típica podría ser:\n",
    "\n",
    "```\n",
    "5 100 200 300 400 500\n",
    "```\n",
    "Donde 5 indica que deben sumarse los siguientes 5 valores.\n",
    "\n",
    "**Solución**: El codigo solución es [p1_ex12.c](./codes/part1/p1_ex12.c). Compilelo y ejecutelo.\n",
    "\n",
    "```C\n",
    "#include <stdio.h>\n",
    "\n",
    "int main() {\n",
    "  int N;   // Cantidad de numeros\n",
    "  int num; // Numero a leer\n",
    "  int i;   // i-esimo numero\n",
    "  int sum = 0; // Suma de los numeros\n",
    "  printf(\"Ingrese la cantidad de numeros a sumar: \");\n",
    "  scanf(\"%d\",&N);\n",
    "  for(i = 0; i < N; i++) {\n",
    "    scanf(\"%d\",&num);\n",
    "    sum += num;\n",
    "  }\n",
    "  printf(\"\\nLa suma es: %d\\n\",sum);\n",
    "  return 0;\n",
    "}\n",
    "```"
   ]
  },
  {
   "cell_type": "markdown",
   "metadata": {},
   "source": [
    "#### Estructura while"
   ]
  },
  {
   "cell_type": "markdown",
   "metadata": {},
   "source": [
    "**Ejemplo 13**: Escriba un programa que calcule e imprima el promedio de varios enteros posivos. Suponga que el último valor leído es el centinela 9999. Una secuencia típica de entrada sería:\n",
    "\n",
    "```\n",
    "10 8 11 7 9 9999\n",
    "```\n",
    "Que indica que el promedio de todos los valores que preceden a 9999 se va a calcular. (Pista: Hacer esto con un ciclo while dentro del cual se lean los valores a promediar, siempre y cuando la condición de que lo leído no sea 9999, se cumpla).\n",
    "\n",
    "**Solución**: El codigo solución es [p1_ex13.c](./codes/part1/p1_ex13.c). Compilelo y ejecutelo.\n",
    "\n",
    "```C\n",
    "#include <stdio.h>\n",
    "\n",
    "const unsigned CENTINELA = 9999;\n",
    "int main() {\n",
    "  int num; // Numero a leer\n",
    "  int sum = 0; // Suma de los numeros\n",
    "  scanf(\"%u\",&num);\n",
    "  while(num != CENTINELA) {\n",
    "    sum += num;\n",
    "    scanf(\"%d\",&num);\n",
    "  }\n",
    "  printf(\"\\nLa suma es: %d\\n\", sum);\n",
    "  return 0;\n",
    "}\n",
    "```"
   ]
  },
  {
   "cell_type": "markdown",
   "metadata": {},
   "source": [
    "#### Estructura do-while"
   ]
  },
  {
   "cell_type": "markdown",
   "metadata": {},
   "source": [
    "**Ejemplo 14**: Hacer un programa que solicite un número de tal manera que si este es negativo mostrara un mensaje que diga \"Número negativo asi que suerte\", y si es positivo mostrará un mensaje que diga: \"Número positivo, siga usted\" y solicite nuevamente un número.\n",
    "\n",
    "**Solución**: El codigo solución es [p1_ex14.c](./codes/part1/p1_ex14.c). Compilelo y ejecutelo.\n",
    "\n",
    "```C\n",
    "#include <stdio.h>\n",
    "\n",
    "int num; // Numero a leer\n",
    "\n",
    "int main() {\n",
    "  \n",
    "  do {\n",
    "    scanf(\"%d\",&num); \n",
    "    if(num >= 0) {\n",
    "      printf(\"Numero positivo, siga usted\\n\"); \n",
    "    }\n",
    "    else {\n",
    "      printf(\"Numero negativo asi que suerte\\n\"); \n",
    "    }\n",
    "  } while(num >= 0);    \n",
    "  printf(\"\\nFin del programa\\n\");\n",
    "  return 0;\n",
    "}\n",
    "```"
   ]
  },
  {
   "cell_type": "markdown",
   "metadata": {},
   "source": [
    "## Funciones "
   ]
  },
  {
   "cell_type": "markdown",
   "metadata": {},
   "source": [
    "Ademas de las funciones de librerias (como scanf y prinf) en C es posible crear funciones definidas por el usuario haciendo que los programas sean modulares. Una funcion en C es un pequeño **sub-programa** que lleva a cabo una tarea particular. La forma de trabajar con funciones en C sigue la misma filosofia que la empleada en los metodos en java. Para usar funciones el programador debe hacer tres cosas:\n",
    "1. **Definir la función**: Consiste en definir las instrucciones que implementan lo que hace la función. La definición de una función tiene la siguiente sintaxis:\n",
    "\n",
    "```C\n",
    "return_type function_name (data type variable name list) {\n",
    "  local declarations;\n",
    "  function statements;\n",
    "}\n",
    "```\n",
    "\n",
    "2. **Declarar la función**: La declaración de una función está asociada a la cabecera de la funcion. El código de la declaración debe ubicarse antes de que la función sea definida. También se conocen como prototipos de la función y no son más que la cabecera de la función. La forma es la siguiente:\n",
    "\n",
    "```C\n",
    "return_type function_name (data type variable name list);\n",
    "}\n",
    "```\n",
    "3. **Usar la función**: Consiste en invocar la funcion; lo cual consiste en colocar el nombre de la función proporsionando los argumentos y variables para almacenar valores retornados (en caso de ser necesario).\n",
    "\n",
    "A continuación se muestra cada uno de los conceptos mediante un ejemplo con el fin de clarificar un poco mas las cosas.\n",
    "\n",
    "**Ejemplo 15 - Definición**: Hacer una función que calcule el factorial de un numero:\n",
    "\n",
    "```C\n",
    "int factorial (int n) {\n",
    "  int i,product=1;\n",
    "  for (i=2; i<=n; ++i)\n",
    "    product *= i;\n",
    "  return product;\n",
    "}\n",
    "```\n",
    "**Ejemplo 16 - Declaración**: ¿Cual es la declaración de la función anteriormente creada?\n",
    "\n",
    "Existen dos formas:\n",
    "\n",
    "* **Forma 1**: Empleando la cabecera completa:\n",
    "```C\n",
    "int factorial (int n);\n",
    "```\n",
    "\n",
    "* **Forma 2**: Solo dejando los tipos de datos asociados a la cabecera y eliminando los parámetros:\n",
    "```C\n",
    "int factorial (int);\n",
    "```\n",
    "\n",
    "**Ejemplo 17 - Usar la función**: Calcular el factorial de 8 llevando el resultado a una variable llamada f.\n",
    "```C\n",
    "int f;\n",
    "f = factorial(8);\n",
    "```\n",
    "\n",
    "**Ejemplo 18 - Programa completo**: Calcular el factorial de un número ingresado por el usuario (El codigo solución es [p1_ex18.c](./codes/part1/p1_ex18.c). Compilelo y ejecutelo):\n",
    "\n",
    "```C\n",
    "#include <stdio.h>\n",
    "\n",
    "int main() {\n",
    "  int num, f;\n",
    "  printf(\"Ingrese el numero\");\n",
    "  scanf(\"%d\",&num);\n",
    "  f = factorial(num);\n",
    "  printf(\"%d! = %d\\n\", num, f);\n",
    "  return 0;\n",
    "}\n",
    "```\n",
    "**Ejemplo 19 - Ejemplo 18 mejorado**: Mejore el programa anterior de modo que permita su ejecución un número indeterminado de veces hasta que el usuario se aburra (El codigo solución es [p1_ex19.c](./codes/part1/p1_ex19.c). Compilelo y ejecutelo).\n",
    "\n",
    "```C\n",
    "#include <stdio.h>\n",
    "\n",
    "/* Declaracion de funciones */\n",
    "int factorial(int n);\n",
    "\n",
    "/* Funcion principal */\n",
    "int main() {\n",
    "  int num; \n",
    "  int fac;\n",
    "  printf(\"Digite un numero positivo o -1 para terminar: \");\n",
    "  scanf(\"%d\", &num);\n",
    "  while(num != -1) {\n",
    "\t fac = factorial(num);\n",
    "     printf(\"%d! = %d\\n\\n\", num, fac);\n",
    "     printf(\"Digite un numero positivo o -1 para terminar: \");\n",
    "     scanf(\"%d\", &num); \t \n",
    "  }\n",
    "  printf(\"\\nSuerte es que le digo...\");\n",
    "  return 0;\n",
    "}\n",
    "\n",
    "/* Definicion de funciones */ \n",
    "int factorial(int n) {\n",
    "  if (n > 0) {\n",
    "    return n*factorial(n-1);\n",
    "  }\n",
    "  else {\n",
    "    return 1;\n",
    "  }\n",
    "}\n",
    "```\n",
    "**Ejemplo 20**: Se define un número combinatorio m sobre n de la siguiente manera:\n",
    "\n",
    "$$\\binom{m}{n}= \\frac{m!}{n!(m-n)!}$$\n",
    "\n",
    "Escribir un programa que lea los valores de m y de n y calcule el valor de m sobre n (El codigo solución es [p1_ex20.c](./codes/part1/p1_ex20.c). Compilelo y ejecutelo). Recuerde, es buena practica de programación que una función invoque a otras cuando es posible y aunque el ejemplo sencillo esto es lo que busca mostrar. El código se omite. "
   ]
  },
  {
   "cell_type": "markdown",
   "metadata": {},
   "source": [
    "### Paso de parámetros a una función "
   ]
  },
  {
   "cell_type": "markdown",
   "metadata": {},
   "source": [
    "En lenguaje C existen dos formas de pasar parametros a una función, estos son:\n",
    "1. Paso por valor.\n",
    "2. Paso por referencia."
   ]
  },
  {
   "cell_type": "markdown",
   "metadata": {},
   "source": [
    "#### Paso de parámetros por valor "
   ]
  },
  {
   "cell_type": "markdown",
   "metadata": {},
   "source": [
    "Cuando un argumento es pasado a una función su valor es copiado en el parámetro de la función. Como la función trabaja sobre el parámetro cuando es invocada, los cambios realizados al parámetro (copia del argumento) de la función no afectan el valor pasado como argumento. La forma típica de una función de este tipo se muestra a continuación:\n",
    "\n",
    "* **Declaracion o prototipo**\n",
    "\n",
    "```C\n",
    "return_type function_name (type1 var1, type2  var2, ...);\n",
    "```\n",
    "\n",
    "El siguiente código es un ejemplo de lo anterior: \n",
    " \n",
    "```C\n",
    "void incremento(int num);\n",
    "```\n",
    "\n",
    "* **Definicion**\n",
    "\n",
    "```C\n",
    "return_type function_name (type1 var1, type2  var2, ...) {\n",
    "  // Intrucciones \n",
    "  ...\n",
    "  code...\n",
    "  ...\n",
    "}\n",
    "```\n",
    "\n",
    "El siguiente código es un ejemplo de lo anterior: \n",
    "\n",
    "```C\n",
    "void incremento(int num) {\n",
    "  num++;\n",
    "}\n",
    "```\n",
    "\n",
    "* **Invocacion**\n",
    "```C\n",
    "< var_resultado = > function_name (arg1, arg2, ...);\n",
    "```\n",
    "\n",
    "El siguiente código es un ejemplo de lo anterior: \n",
    "\n",
    "```C\n",
    "int N = 1;\n",
    "incremento(N);\n",
    "```"
   ]
  },
  {
   "cell_type": "markdown",
   "metadata": {},
   "source": [
    "**Ejemplo 21**: En el siguiente ejemplo se muestra una función que incrementa valor que se pasa al parámetro. Este, como los ejemplos vistos con anterioridad emplean el paso de funciones por argumento"
   ]
  },
  {
   "cell_type": "code",
   "execution_count": 25,
   "metadata": {},
   "outputs": [
    {
     "data": {
      "text/html": [
       "\n",
       "        <iframe\n",
       "            width=\"100%\"\n",
       "            height=\"600\"\n",
       "            src=\"http://pythontutor.com/iframe-embed.html#code=%23include%20%3Cstdio.h%3E%0A%0A//%20Prototipo%0Avoid%20incremento%28int%20num%29%3B%0A%0Aint%20main%28%29%20%7B%0A%20%20int%20N%20%3D%203%3B%0A%20%20printf%28%22Valor%20de%20N%20antes%20del%20llamado%20a%20la%20funcion%3A%20%25d%5Cn%22%2C%20N%29%3B%0A%20%20//%20Invocacion%0A%20%20incremento%28N%29%3B%0A%20%20printf%28%22Valor%20de%20N%20despues%20del%20llamado%20a%20la%20funcion%3A%20%25d%5Cn%22%2C%20N%29%3B%0A%20%20return%200%3B%0A%7D%0A%0A//%20Definicion%0Avoid%20incremento%28int%20num%29%20%7B%0A%20%20num%2B%2B%3B%0A%7D&origin=opt-frontend.js&cumulative=false&heapPrimitives=false&textReferences=false&curInstr=0&&verticalStack=false&py=c&rawInputLstJSON=%5B%5D&codeDivWidth=50%25&codeDivHeight=100%25\"\n",
       "            frameborder=\"0\"\n",
       "            allowfullscreen\n",
       "        ></iframe>\n",
       "        "
      ],
      "text/plain": [
       "<IPython.lib.display.IFrame at 0x7fefe40f9160>"
      ]
     },
     "metadata": {},
     "output_type": "display_data"
    }
   ],
   "source": [
    "%%tutor -l c -h 600\n",
    "#include <stdio.h>\n",
    "\n",
    "// Prototipo\n",
    "void incremento(int num);\n",
    "\n",
    "int main() {\n",
    "  int N = 3;\n",
    "  printf(\"Valor de N antes del llamado a la funcion: %d\\n\", N);\n",
    "  // Invocacion\n",
    "  incremento(N);\n",
    "  printf(\"Valor de N despues del llamado a la funcion: %d\\n\", N);\n",
    "  return 0;\n",
    "}\n",
    "\n",
    "// Definicion\n",
    "void incremento(int num) {\n",
    "  num++;\n",
    "}"
   ]
  },
  {
   "cell_type": "markdown",
   "metadata": {},
   "source": [
    "#### Paso de parámetros por referencia"
   ]
  },
  {
   "cell_type": "markdown",
   "metadata": {},
   "source": [
    "Una función por referencia es aquella que emplea como parámetros apuntadores (variables que almacenan direcciones de memoria, este tema se tratará después con más detalle). En este caso particular cuando una función es llamada por referencia lo que se pasa es la dirección de la variable pasada como argumento (anteponiendo el ampersand (**&**) al nombre de esta (**&var** = **Dirección de var**)), con esto, la función no trabaja sobre una copia local del argumento, sino directamente sobre la variable en sí, pues su contenido en memoria es manipulado a través del apuntador asociado al parámetro de la función. A continuación, se muestra la forma básica de trabajo para llamados por referencia:\n",
    "\n",
    "* **Declaración o prototipo**\n",
    "\n",
    "```C\n",
    "return_type function_name (type1 *var1, type2  *var2, ...);\n",
    "```\n",
    "\n",
    "El siguiente código es un ejemplo de lo anterior: \n",
    " \n",
    "```C\n",
    "void incremento(int *num);\n",
    "```\n",
    "\n",
    "* **Definición**\n",
    "\n",
    "```C\n",
    "return_type function_name (type1 *var1, type2  *var2, ...) {\n",
    "  // Intrucciones \n",
    "  ...\n",
    "  code...\n",
    "  ...\n",
    "}\n",
    "```\n",
    "\n",
    "El siguiente código es un ejemplo de lo anterior: \n",
    "\n",
    "```C\n",
    "void incremento(int *num) {\n",
    "  *num += 1;\n",
    "}\n",
    "```\n",
    "\n",
    "**Nota**: Tanto en la declaración como en la definición note que el manejo del parametro se hizo anteponiendo a la variable un simbolo asterisco (*****), esto se debe a que el parametro es una variable tipo apuntador, este será un tema posterior, por ahora, tenga en cuenta que gracias al asterisco es que se puede cambiar el contenido almacenado en la memoria de la variable a la que el parametro tipo apuntador num apunta.\n",
    "\n",
    "* **Invocacion**\n",
    "```C\n",
    "< var_resultado = > function_name (&arg1, &arg2, ...);\n",
    "```\n",
    "\n",
    "El siguiente código es un ejemplo de lo anterior: \n",
    "\n",
    "```C\n",
    "int N = 1;\n",
    "incremento(&N);\n",
    "```\n",
    "\n",
    "**Nota**: Observe que la invocación para el caso se hizo con el operador ampersand (&), esto tiene su razón de ser pero será abordado después, por ahora tenga en cuenta que cuando se pasan variables a funciones y el llamado es por referencia se les debe anteponer el operador ampersand (&) como en el ejemplo anterior y en el caso de la función scanf (analizada previamente)."
   ]
  },
  {
   "cell_type": "markdown",
   "metadata": {},
   "source": [
    "**Ejemplo 21**: En el siguiente ejemplo se muestra una función que incrementa referencia que se pasa al parámetro, la idea es resumir todo lo expuesto anteriormente, no se preocupe si de entrada no coje el hilo, es el tema más dificil de manejar en C (incluso, personalmente fue algo difícil de entender en nuestro pregrado), pero una vez tenga claridad con esto todo fluirá."
   ]
  },
  {
   "cell_type": "code",
   "execution_count": 26,
   "metadata": {},
   "outputs": [
    {
     "data": {
      "text/html": [
       "\n",
       "        <iframe\n",
       "            width=\"100%\"\n",
       "            height=\"600\"\n",
       "            src=\"http://pythontutor.com/iframe-embed.html#code=%23include%20%3Cstdio.h%3E%0A%0Avoid%20incremento%28int%20%2Anum%29%3B%0A%0Aint%20main%28%29%20%7B%0A%20%20int%20N%20%3D%203%3B%0A%20%20printf%28%22Valor%20de%20N%20antes%20del%20llamado%20a%20la%20funcion%3A%20%25d%5Cn%22%2C%20N%29%3B%0A%20%20incremento%28%26N%29%3B%0A%20%20printf%28%22Valor%20de%20N%20despues%20del%20llamado%20a%20la%20funcion%3A%20%25d%5Cn%22%2C%20N%29%3B%0A%20%20return%200%3B%0A%7D%0A%0Avoid%20incremento%28int%20%2Anum%29%20%7B%0A%20%20%2Anum%20%2B%3D%201%3B%0A%7D&origin=opt-frontend.js&cumulative=false&heapPrimitives=false&textReferences=false&curInstr=0&&verticalStack=false&py=c&rawInputLstJSON=%5B%5D&codeDivWidth=50%25&codeDivHeight=100%25\"\n",
       "            frameborder=\"0\"\n",
       "            allowfullscreen\n",
       "        ></iframe>\n",
       "        "
      ],
      "text/plain": [
       "<IPython.lib.display.IFrame at 0x7fefe40f9eb8>"
      ]
     },
     "metadata": {},
     "output_type": "display_data"
    }
   ],
   "source": [
    "%%tutor -l c -h 600\n",
    "#include <stdio.h>\n",
    "\n",
    "void incremento(int *num);\n",
    "\n",
    "int main() {\n",
    "  int N = 3;\n",
    "  printf(\"Valor de N antes del llamado a la funcion: %d\\n\", N);\n",
    "  incremento(&N);\n",
    "  printf(\"Valor de N despues del llamado a la funcion: %d\\n\", N);\n",
    "  return 0;\n",
    "}\n",
    "\n",
    "void incremento(int *num) {\n",
    "  *num += 1;\n",
    "}"
   ]
  },
  {
   "cell_type": "markdown",
   "metadata": {},
   "source": [
    "### Ejercicios de refuerzo para la clase (Parte 2) "
   ]
  },
  {
   "cell_type": "markdown",
   "metadata": {},
   "source": [
    "1. Analise y entienda el siguiente código y responda las preguntas que se formulan abajo:"
   ]
  },
  {
   "cell_type": "code",
   "execution_count": 28,
   "metadata": {},
   "outputs": [
    {
     "data": {
      "text/html": [
       "\n",
       "        <iframe\n",
       "            width=\"100%\"\n",
       "            height=\"800\"\n",
       "            src=\"http://pythontutor.com/iframe-embed.html#code=%23include%20%3Cstdio.h%3E%0A%0Avoid%20intercambioReferencia%28int%20%2Ax%2C%20int%20%2Ay%29%3B%0Avoid%20intercambioValor%28int%20x%2C%20int%20y%29%3B%0A%0Aint%20main%28%29%20%7B%0A%20%20%20%20int%20x%20%3D%205%2C%20y%20%3D%2010%3B%0A%20%20%20%20printf%28%22---------------------------------------------------%5Cn%22%29%3B%0A%20%20%20%20printf%28%22Llamada%20por%20valor%5Cn%22%29%3B%0A%20%20%20%20printf%28%22Antes%20del%20intercambio%3A%20x%20%3D%20%25d%3B%20y%20%3D%20%25d%5Cn%22%2C%20x%20%2C%20y%29%3B%20%20%20%20%0A%20%20%20%20intercambioValor%28x%2C%20y%29%3B%0A%20%20%20%20printf%28%22Despues%20del%20intercambio%3A%20x%20%3D%20%25d%3B%20y%20%3D%20%25d%5Cn%22%2C%20x%20%2C%20y%29%3B%0A%20%20%20%20printf%28%22---------------------------------------------------%5Cn%22%29%3B%0A%20%20%20%20printf%28%22Llamada%20por%20referencia%5Cn%22%29%3B%0A%20%20%20%20printf%28%22Antes%20del%20intercambio%3A%20x%20%3D%20%25d%3B%20y%20%3D%20%25d%5Cn%22%2C%20x%20%2C%20y%29%3B%20%20%20%20%0A%20%20%20%20intercambioReferencia%28%26x%2C%20%26y%29%3B%0A%20%20%20%20printf%28%22Despues%20del%20intercambio%3A%20x%20%3D%20%25d%3B%20y%20%3D%20%25d%5Cn%22%2C%20x%20%2C%20y%29%3B%0A%20%20%20%20printf%28%22---------------------------------------------------%5Cn%22%29%3B%0A%20%20%20%20return%200%3B%0A%7D%0A%0Avoid%20intercambioReferencia%28int%20%2Apx%2C%20int%20%2Apy%29%20%7B%0A%20%20%20%20int%20temp%3B%0A%20%20%20%20temp%20%3D%20%2Apx%3B%0A%20%20%20%20%2Apx%20%3D%20%2Apy%3B%0A%20%20%20%20%2Apy%20%3D%20temp%3B%20%20%20%20%0A%7D%0A%0Avoid%20intercambioValor%28int%20x%2C%20int%20y%29%20%7B%0A%20%20%20%20int%20temp%3B%0A%20%20%20%20temp%20%3D%20x%3B%0A%20%20%20%20x%20%3D%20y%3B%0A%20%20%20%20y%20%3D%20temp%3B%0A%7D&origin=opt-frontend.js&cumulative=false&heapPrimitives=false&textReferences=false&curInstr=0&&verticalStack=false&py=c&rawInputLstJSON=%5B%5D&codeDivWidth=50%25&codeDivHeight=100%25\"\n",
       "            frameborder=\"0\"\n",
       "            allowfullscreen\n",
       "        ></iframe>\n",
       "        "
      ],
      "text/plain": [
       "<IPython.lib.display.IFrame at 0x7fefe40f9eb8>"
      ]
     },
     "metadata": {},
     "output_type": "display_data"
    }
   ],
   "source": [
    "%%tutor -l c -h 800\n",
    "#include <stdio.h>\n",
    "\n",
    "void intercambioReferencia(int *x, int *y);\n",
    "void intercambioValor(int x, int y);\n",
    "\n",
    "int main() {\n",
    "    int x = 5, y = 10;\n",
    "    printf(\"---------------------------------------------------\\n\");\n",
    "    printf(\"Llamada por valor\\n\");\n",
    "    printf(\"Antes del intercambio: x = %d; y = %d\\n\", x , y);    \n",
    "    intercambioValor(x, y);\n",
    "    printf(\"Despues del intercambio: x = %d; y = %d\\n\", x , y);\n",
    "    printf(\"---------------------------------------------------\\n\");\n",
    "    printf(\"Llamada por referencia\\n\");\n",
    "    printf(\"Antes del intercambio: x = %d; y = %d\\n\", x , y);    \n",
    "    intercambioReferencia(&x, &y);\n",
    "    printf(\"Despues del intercambio: x = %d; y = %d\\n\", x , y);\n",
    "    printf(\"---------------------------------------------------\\n\");\n",
    "    return 0;\n",
    "}\n",
    "\n",
    "void intercambioReferencia(int *px, int *py) {\n",
    "    int temp;\n",
    "    temp = *px;\n",
    "    *px = *py;\n",
    "    *py = temp;    \n",
    "}\n",
    "\n",
    "void intercambioValor(int x, int y) {\n",
    "    int temp;\n",
    "    temp = x;\n",
    "    x = y;\n",
    "    y = temp;\n",
    "}\n"
   ]
  },
  {
   "cell_type": "markdown",
   "metadata": {},
   "source": [
    "**Preguntas**: \n",
    "1. ¿Cual es la función que se pasa por valor y cual es la que se pasa por referencia?, ¿Como distingue esto en el código?\n",
    "2. Suponiendo que esta ejecutando el código y se acabo de ejecutar la cuarta linea ```C *py = temp``` de la función ```C intercambioReferencia```, ¿Cuales son los valores de ```Ctemp```, ```Cy``` y ```Cx```?\n",
    "3. Suponiendo que esta ejecutando el código y se acabo de ejecutar la tercera linea ```C x = y``` de la función ```C intercambioValor```, ¿Cuales son los valores de ```Ctemp```, ```Cx``` y ```Cy```?\n",
    "4. ¿Por que la salida en pantalla mostrada?"
   ]
  }
 ],
 "metadata": {
  "kernelspec": {
   "display_name": "Python 3",
   "language": "python",
   "name": "python3"
  },
  "language_info": {
   "codemirror_mode": {
    "name": "ipython",
    "version": 3
   },
   "file_extension": ".py",
   "mimetype": "text/x-python",
   "name": "python",
   "nbconvert_exporter": "python",
   "pygments_lexer": "ipython3",
   "version": "3.4.6"
  }
 },
 "nbformat": 4,
 "nbformat_minor": 2
}
